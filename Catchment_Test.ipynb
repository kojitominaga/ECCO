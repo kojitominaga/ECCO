{
 "cells": [
  {
   "cell_type": "markdown",
   "metadata": {},
   "source": [
    "Test code to examine Lake Catchment Areas"
   ]
  },
  {
   "cell_type": "code",
   "execution_count": 1,
   "metadata": {
    "collapsed": true
   },
   "outputs": [],
   "source": [
    "import ECCO_functions_v2 as ECCO\n",
    "\n",
    "import csv  # <<-- dont forget to add this ti function file"
   ]
  },
  {
   "cell_type": "code",
   "execution_count": 2,
   "metadata": {
    "collapsed": false
   },
   "outputs": [],
   "source": [
    "#from __future__ import print_function\n",
    "\n",
    "from collections import OrderedDict\n",
    "import pandas as pd\n",
    "import osgeo.ogr\n",
    "import sys, time, os, json, glob\n",
    "import numpy as np\n",
    "import pyproj\n",
    "import h5py\n",
    "\n",
    "import random\n",
    "\n",
    "import matplotlib.pyplot as plt\n",
    "%matplotlib inline"
   ]
  },
  {
   "cell_type": "code",
   "execution_count": null,
   "metadata": {
    "collapsed": false
   },
   "outputs": [],
   "source": []
  },
  {
   "cell_type": "code",
   "execution_count": 4,
   "metadata": {
    "collapsed": false,
    "scrolled": true
   },
   "outputs": [],
   "source": [
    "# Read back catchment metadata from Catchment_weights_Meta() function..\n",
    "catch_meta = pd.read_csv('Catchments/Metadata/Catchment_meta.csv')\n",
    "catch_meta = catch_meta.set_index('EB_id')\n",
    "\n",
    "#catch_meta.area['d30b2']\n",
    "#for i in catch_meta.index[0:10]:\n",
    "#    print i"
   ]
  },
  {
   "cell_type": "code",
   "execution_count": 15,
   "metadata": {
    "collapsed": false
   },
   "outputs": [
    {
     "data": {
      "image/png": "[encoded data removed]",
      "text/plain": [
       "<matplotlib.figure.Figure at 0x7f5fb1edae10>"
      ]
     },
     "metadata": {},
     "output_type": "display_data"
    },
    {
     "name": "stdout",
     "output_type": "stream",
     "text": [
      "Shapes: (7, 6) (7, 6) (10, 7, 6)\n",
      "0 0.222642 [ 1.  1.  1.]\n",
      "1 0.659245 [ 1.  1.  1.]\n",
      "2 0.118113 [ 1.  1.  1.]\n",
      "3"
     ]
    },
    {
     "ename": "IndexError",
     "evalue": "index out of bounds",
     "output_type": "error",
     "traceback": [
      "\u001b[1;31m---------------------------------------------------------------------------\u001b[0m",
      "\u001b[1;31mIndexError\u001b[0m                                Traceback (most recent call last)",
      "\u001b[1;32m<ipython-input-15-6d69ed8edd5e>\u001b[0m in \u001b[0;36m<module>\u001b[1;34m()\u001b[0m\n\u001b[0;32m     24\u001b[0m \u001b[0mtmp_series\u001b[0m \u001b[1;33m=\u001b[0m \u001b[1;33m[\u001b[0m\u001b[1;33m]\u001b[0m\u001b[1;33m\u001b[0m\u001b[0m\n\u001b[0;32m     25\u001b[0m \u001b[1;32mfor\u001b[0m \u001b[0mn\u001b[0m\u001b[1;33m,\u001b[0m\u001b[0mpix\u001b[0m \u001b[1;32min\u001b[0m \u001b[0menumerate\u001b[0m\u001b[1;33m(\u001b[0m\u001b[0mcsim\u001b[0m\u001b[1;33m[\u001b[0m\u001b[1;33m:\u001b[0m\u001b[1;33m,\u001b[0m\u001b[0maaa\u001b[0m\u001b[1;33m]\u001b[0m\u001b[1;33m)\u001b[0m\u001b[1;33m:\u001b[0m  \u001b[1;31m# Place climate data here,subset by truth-mask of weights\u001b[0m\u001b[1;33m\u001b[0m\u001b[0m\n\u001b[1;32m---> 26\u001b[1;33m     \u001b[1;32mprint\u001b[0m \u001b[0mn\u001b[0m\u001b[1;33m,\u001b[0m\u001b[0mwm\u001b[0m\u001b[1;33m[\u001b[0m\u001b[0mn\u001b[0m\u001b[1;33m]\u001b[0m\u001b[1;33m,\u001b[0m\u001b[0mpix\u001b[0m\u001b[1;33m\u001b[0m\u001b[0m\n\u001b[0m\u001b[0;32m     27\u001b[0m     \u001b[0mtmp_series\u001b[0m\u001b[1;33m.\u001b[0m\u001b[0mappend\u001b[0m\u001b[1;33m(\u001b[0m\u001b[0mwm\u001b[0m\u001b[1;33m[\u001b[0m\u001b[0mn\u001b[0m\u001b[1;33m]\u001b[0m\u001b[1;33m*\u001b[0m\u001b[0mpix\u001b[0m\u001b[1;33m)\u001b[0m\u001b[1;33m\u001b[0m\u001b[0m\n\u001b[0;32m     28\u001b[0m \u001b[0mtmp_series\u001b[0m \u001b[1;33m=\u001b[0m \u001b[0mnp\u001b[0m\u001b[1;33m.\u001b[0m\u001b[0marray\u001b[0m\u001b[1;33m(\u001b[0m\u001b[0mtmp_series\u001b[0m\u001b[1;33m)\u001b[0m\u001b[1;33m\u001b[0m\u001b[0m\n",
      "\u001b[1;31mIndexError\u001b[0m: index out of bounds"
     ]
    }
   ],
   "source": [
    "# Need to add a line that checks number of pixels etc...\n",
    "#a2 = get_catchweight(tmp_ebid='b82ce')  # example of pulling the catchment weights back with metadata\n",
    "plt.imshow(a2,interpolation='none',cmap=plt.cm.gray)\n",
    "plt.show()\n",
    "#print(np.sum(a2))\n",
    "\n",
    "#for n in catch_meta.index[24009:24010]:\n",
    "#    tmpid = n\n",
    "#    print tmpid,catch_meta.npix[tmpid]\n",
    "\n",
    "csim2[0,aaa]=10.\n",
    "\n",
    "#plt.imshow(csim2[:,:,0],interpolation='none',cmap=plt.cm.gray)\n",
    "#plt.show()\n",
    "\n",
    "aaa = (a2 != 0.)   # Indx where weights exist\n",
    "#print(aaa)\n",
    "print 'Shapes:',np.shape(aaa),np.shape(a2),np.shape(csim)\n",
    "#dim1, dim2, dim3 = csim.shape\n",
    "#d = csim.reshape((dim1, dim2 * dim3))[:, aaa] ## n_time x n_pixels\n",
    "\n",
    "aaa = (a2 != 0.)   # Indx where weights exist\n",
    "wm = a2[aaa].flatten()  # get a small array of the weight pixels only\n",
    "tmp_series = []\n",
    "for n,pix in enumerate(csim[:,aaa]):  # Place climate data here,subset by truth-mask of weights\n",
    "    print n,wm[n],pix\n",
    "    tmp_series.append(wm[n]*pix)\n",
    "tmp_series = np.array(tmp_series)\n",
    "time_series = np.sum(tmp_series,axis=0)\n"
   ]
  },
  {
   "cell_type": "code",
   "execution_count": 14,
   "metadata": {
    "collapsed": false
   },
   "outputs": [
    {
     "name": "stdout",
     "output_type": "stream",
     "text": [
      "(10, 7, 6)\n",
      "(6, 7, 10)\n",
      "[  1.00000000e+01   8.93287942e-02   2.13089325e-01   2.55739775e-01\n",
      "   7.89525422e-01   6.46067076e-03   4.53443217e-01   2.43006060e-01\n",
      "   7.25739388e-01   9.15719780e-02]\n",
      "[ 0.16759638  0.65555276  0.79099501  0.47496523  0.26877049  0.09028364\n",
      "  0.13590496  0.07787574  0.05724736  0.05203857]\n",
      "[ 10.           0.931202     0.92012277   0.80373279   0.44123345\n",
      "   0.33197187   0.43810808   0.78741406   0.59807598   0.79192429]\n"
     ]
    },
    {
     "data": {
      "text/plain": [
       "<matplotlib.image.AxesImage at 0x7f5fb1dc8350>"
      ]
     },
     "execution_count": 14,
     "metadata": {},
     "output_type": "execute_result"
    },
    {
     "data": {
      "image/png": "[encoded data removed]",
      "text/plain": [
       "<matplotlib.figure.Figure at 0x7f5fb1df30d0>"
      ]
     },
     "metadata": {},
     "output_type": "display_data"
    }
   ],
   "source": [
    "#print(aaa)\n",
    "\n",
    "ctemp = np.rollaxis(csim2,1)\n",
    "ctemp = np.rollaxis(ctemp,2)\n",
    "print np.shape(csim)\n",
    "print np.shape(ctemp)\n",
    "for n in ctemp[aaa,:]:\n",
    "    print n\n",
    "    \n",
    "plt.imshow(csim2[0,:,:],interpolation='none')\n",
    "#np.rollaxis?"
   ]
  },
  {
   "cell_type": "code",
   "execution_count": 13,
   "metadata": {
    "collapsed": false
   },
   "outputs": [
    {
     "name": "stdout",
     "output_type": "stream",
     "text": [
      "(7, 6)\n"
     ]
    },
    {
     "data": {
      "image/png": "[encoded data removed]",
      "text/plain": [
       "<matplotlib.figure.Figure at 0x7f5fb2a019d0>"
      ]
     },
     "metadata": {},
     "output_type": "display_data"
    },
    {
     "name": "stdout",
     "output_type": "stream",
     "text": [
      "Shape covers 3  pixels\n",
      "Actual weight values are : [ 0.22264151  0.65924531  0.1181132 ]\n",
      "Pix weight cum. sum (should end as 1.0): [ 0.22264151  0.88188684  1.        ]\n"
     ]
    },
    {
     "data": {
      "image/png": "[encoded data removed]",
      "text/plain": [
       "<matplotlib.figure.Figure at 0x7f5fb1dbbb90>"
      ]
     },
     "metadata": {},
     "output_type": "display_data"
    }
   ],
   "source": [
    "a2 = get_catchweight(tmp_ebid='b82ce')  # example of pulling the catchment weights back with metadata\n",
    "#plt.imshow(a2,interpolation='none',cmap=plt.cm.gray)\n",
    "\n",
    "xval,yval = np.shape(a2)\n",
    "csim = np.ones((10,xval,yval)) \n",
    "\n",
    "csim2 = [[[random.random() for i in range(yval)] for j in range(xval)] for n in range(10)]\n",
    "csim2 = np.array(csim2)\n",
    "aaa = (a2 != 0.)   # Indx where weights exist\n",
    "csim2[0,aaa]=10.\n",
    "\n",
    "print np.shape(a2)\n",
    "#print np.shape(csim)\n",
    "#print np.shape(csim2)\n",
    "\n",
    "plt.imshow(csim2[0,:,:],interpolation='none',cmap=plt.cm.gist_gray)\n",
    "plt.show()\n",
    "tseries = ECCO.Weighted_Mean_3D(weight_mask=a2,all_time_clim=csim2,chatty=True)\n",
    "plt.plot(tseries)\n",
    "plt.show()"
   ]
  },
  {
   "cell_type": "code",
   "execution_count": null,
   "metadata": {
    "collapsed": false
   },
   "outputs": [],
   "source": []
  },
  {
   "cell_type": "code",
   "execution_count": 390,
   "metadata": {
    "collapsed": false
   },
   "outputs": [],
   "source": [
    "def Weighted_Mean_3D(weight_mask,all_time_clim,chatty):\n",
    "    '''Purpose    - Reads in the 2D weight mask (from Pixel_Weights\n",
    "    function) and the trimmed data from TrimToLake and returns a\n",
    "    weighted mean. This should be iterated for each time-step.\n",
    "    Input    - weight_mask: Pixel weights\n",
    "             - all_time_clim: the climate data (lat lon subset)\n",
    "             from TrimToLake3D().\n",
    "             - chatty: a true or false statement, if true, it will \n",
    "               print some info on the weighting process.\n",
    "    Output   - val_out: the weighted mean value\n",
    "    '''\n",
    "    tvals = weight_mask != 0.   # Indx where weights exist\n",
    "    if len(weight_mask[tvals]) < 1:\n",
    "        print 'Error, no shape cover identified in weighted mask.'\n",
    "        return\n",
    "    if chatty:\n",
    "        print 'Shape covers',len(weight_mask[tvals]),' pixels'\n",
    "        print 'Actual weight values are :',weight_mask[tvals]\n",
    "        print 'Pix weight cum. sum (should end as 1.0):',np.cumsum(weight_mask[tvals])\n",
    "    wm = weight_mask[tvals].flatten()  # Get a small array of the weight pixels only\n",
    "    tmp_series = []\n",
    "    \n",
    "    # Roll the axis so that from a loop I can pull back all time dimension for each pixl\n",
    "    ctemp = np.rollaxis(all_time_clim,2) \n",
    "    ctemp = np.rollaxis(ctemp,2)\n",
    "    \n",
    "    for n,pix in enumerate(ctemp[tvals,:]):  # For each row (timeseries) of pixel data\n",
    "        tmp_series.append(wm[n]*pix)         # append it\n",
    "    tmp_series = np.array(tmp_series)\n",
    "    time_series = np.sum(tmp_series,axis=0)\n",
    "    return time_series\n",
    "\n",
    "\n",
    "def Weighted_Mean_3D_old(weight_mask,all_time_clim,chatty):\n",
    "    '''\n",
    "    I THINK THIS IS BUGGY - so I created this old version to track \n",
    "    how it used to look. New changes in the non-old version above.\n",
    "    Purpose    - Reads in the 2D weight mask (from Pixel_Weights\n",
    "    function) and the trimmed data from TrimToLake and returns a\n",
    "    weighted mean. This should be iterated for each time-step.\n",
    "    Input    - weight_mask: Pixel weights\n",
    "             - all_time_clim: the climate data (lat lon subset)\n",
    "             - chatty: a true or false statement, if true, it will \n",
    "               print some info on the weighting process.\n",
    "    Output   - val_out: the weighted mean value\n",
    "    '''\n",
    "    aaa = (weight_mask > 0.000).flatten()   # Indx where weights exist\n",
    "    if (len(aaa) == 0):\n",
    "        print 'Error: no lake cover identified! :('\n",
    "    if (chatty == True):\n",
    "        print 'Lake covers',len(weight_mask[aaa]),' pixels'\n",
    "        print 'Actual weight values are :',weight_mask[aaa]\n",
    "        print 'Cum. sum of pixel weights (should end as 1.0):',cumsum(weight_mask[aaa])\n",
    "    dim1, dim2, dim3 = all_time_clim.shape\n",
    "    d = all_time_clim.reshape((dim1, dim2 * dim3))[:, aaa] ## n_time x n_pixels\n",
    "    wm = weight_mask.flatten()[aaa]\n",
    "    val_out = np.dot(d, wm.reshape(len(wm), 1)) ## n_time x n_pixels dot n_pixels x 1\n",
    "    return val_out"
   ]
  },
  {
   "cell_type": "code",
   "execution_count": 8,
   "metadata": {
    "collapsed": false
   },
   "outputs": [],
   "source": [
    "# Catchment specific function (to be added to function file after development)\n",
    "\n",
    "def get_catchweight(tmp_ebid):\n",
    "    '''\n",
    "    From the hex EB_id (KID) value of a catchment covering more than one\n",
    "    pixel, fetch the np array of the pre-calculated weight from the hdf5 \n",
    "    file. N.b. this file has been pre-calculated, using the function\n",
    "    Catchment_Weights_Meta(), and is a 65mb file required for the code to\n",
    "    run correctly.\n",
    "    Requies h5py module.\n",
    "    '''\n",
    "    with h5py.File('Catchments/Weights/catchment_weights.h5','r') as fp:\n",
    "        tmparray = fp[tmp_ebid]\n",
    "        tmparray = tmparray[:,:]\n",
    "    return tmparray\n",
    "\n",
    "\n",
    "def Reproj_Catchment(lake_feature,chatty=False):\n",
    "    '''\n",
    "    Takes the lowest level data from the Catchment shape file feature, and\n",
    "    reprojects the coordinate system using PROJ (PyProj) to a WGS85 system.\n",
    "    '''\n",
    "    p1 = pyproj.Proj(\"+init=EPSG:25833\")   # Projected system for lake catchments\n",
    "    p2 = pyproj.Proj(\"+init=EPSG:4326\")    # World Geodetic system\n",
    "    tmp1=[]\n",
    "    \n",
    "    if lake_feature['geometry']['type'] == 'MultiPolygon':\n",
    "        if chatty == True: print 'Multi-polygon type'\n",
    "        for n in lake_feature['geometry']['coordinates'][0][0]:  #For every vertice pair...\n",
    "            x,y=(pyproj.transform(p1,p2,n[0],n[1],z=None,radians=False)) # trans. coords. to WGS85\n",
    "            tmp1.append([x,y])\n",
    "        return tmp1\n",
    "    else:\n",
    "        if chatty == True: print 'Simple Polygon type'\n",
    "        for n in lake_feature['geometry']['coordinates'][0]:  #For every vertice pair...\n",
    "            x,y=(pyproj.transform(p1,p2,n[0],n[1],z=None,radians=False)) # trans. coords. to WGS85\n",
    "            tmp1.append([x,y])\n",
    "        return tmp1\n",
    "\n",
    "def write_metadata_csv(mfname,meta_list):\n",
    "    '''\n",
    "    Writes a list of metadata (meta_list) to a csv file one\n",
    "    line at a time, appending to the file. This means I dont\n",
    "    need to keep all the data in memory at once.\n",
    "    requires > import csv\n",
    "    '''\n",
    "    with open(mfname, 'a') as csvfile:\n",
    "        metawriter = csv.writer(csvfile,delimiter=',',\n",
    "                            quotechar='|', quoting=csv.QUOTE_MINIMAL)\n",
    "        metawriter.writerow(meta_list)\n",
    "    return\n",
    "    \n",
    "def Write_HDF_weights(fw,EB_id,weights):\n",
    "    '''\n",
    "    Simple writing using H5py module in HDF5 format.\n",
    "    (This should be used for the final program)\n",
    "    '''\n",
    "    dim1,dim2 = np.shape(weights)\n",
    "    dset = fw.create_dataset(EB_id,(dim1,dim2,),dtype='f')\n",
    "    dset[...]=weights\n",
    "    return"
   ]
  },
  {
   "cell_type": "code",
   "execution_count": 16,
   "metadata": {
    "collapsed": false
   },
   "outputs": [
    {
     "name": "stdout",
     "output_type": "stream",
     "text": [
      " Simple Polygon type\n"
     ]
    },
    {
     "data": {
      "image/png": "[encoded data removed]",
      "text/plain": [
       "<matplotlib.figure.Figure at 0x7f5fb9577f50>"
      ]
     },
     "metadata": {},
     "output_type": "display_data"
    },
    {
     "name": "stdout",
     "output_type": "stream",
     "text": [
      "e9f40\n",
      "Area in km^2: 2.79 , No. xy bound. points: 576\n"
     ]
    }
   ],
   "source": [
    "input_file = 'Catchments/ecco_biwa_catchments_part_1.shp'\n",
    "\n",
    "n = 10\n",
    "\n",
    "ShapeData = osgeo.ogr.Open(input_file)                  # Make a link to Lake Shape Files\n",
    "TheLayer = ShapeData.GetLayer(iLayer=0)\n",
    "feature1 = TheLayer.GetFeature(n)                      # Get individ. lake in shapefile\n",
    "lake_feature = feature1.ExportToJson(as_object=True)\n",
    "EB_id = hex(int(lake_feature['properties']['ebint']))[2:]\n",
    "\n",
    "\n",
    "wgs85_xy = Reproj_Catchment(lake_feature=lake_feature,chatty=True)\n",
    "lake_cart = ECCO.Path_LkIsl_ShpFile([wgs85_xy])\n",
    "lake_rprj = ECCO.Path_Reproj(lake_cart,False)    # Reproj. lake to CORDEX plr. rotated\n",
    "\n",
    "ECCO.Preview_Lake(lake_cart)        \n",
    "print EB_id\n",
    "print 'Area in km^2:', ECCO.Area_Lake_and_Islands(lake_cart),         \n",
    "print ', No. xy bound. points:',len(lake_cart.vertices)\n"
   ]
  },
  {
   "cell_type": "code",
   "execution_count": 5,
   "metadata": {
    "collapsed": false
   },
   "outputs": [
    {
     "name": "stdout",
     "output_type": "stream",
     "text": [
      "(1, 577, 2)\n",
      "False\n"
     ]
    }
   ],
   "source": [
    "#lake_feature\n",
    "lake_feature['geometry']['coordinates'][0]\n",
    "p1 = pyproj.Proj(\"+init=EPSG:25833\")   # Projected system for lake catchments\n",
    "p2 = pyproj.Proj(\"+init=EPSG:4326\")    # World Geodetic system\n",
    "tmp1=[]\n",
    "print np.shape(lake_feature['geometry']['coordinates'])\n",
    "for i,n in enumerate(lake_feature['geometry']['coordinates'][0]):  #For every vertice pair...\n",
    "    x,y=(pyproj.transform(p1,p2,n[0],n[1],z=None,radians=False)) # trans. coords. to WGS85\n",
    "    tmp1.append([x,y])\n",
    "    \n",
    "print lake_feature['geometry']['type'] == 'MultiPolygon'"
   ]
  },
  {
   "cell_type": "code",
   "execution_count": 7,
   "metadata": {
    "collapsed": false
   },
   "outputs": [
    {
     "name": "stdout",
     "output_type": "stream",
     "text": [
      "274791\n"
     ]
    }
   ],
   "source": [
    "input_file = 'Catchments/ecco_biwa_catchments_part_3.shp'\n",
    "ShapeData = osgeo.ogr.Open(input_file)                  # Make a link to Lake Shape Files\n",
    "TheLayer = ShapeData.GetLayer(iLayer=0)\n",
    "\n",
    "TheLayer.GetFeatureCount()\n",
    "\n",
    "print(np.sum([91268, 91457, 92066]))"
   ]
  },
  {
   "cell_type": "code",
   "execution_count": 43,
   "metadata": {
    "collapsed": false
   },
   "outputs": [],
   "source": [
    "def catchment_timeseries(nc_path, outputprefix,plots = False,rprt=False,sbar=False):\n",
    "    '''\n",
    "    Function to produce time series over catchment areas for a given input file of\n",
    "    CORDEX data. Metadata and weights have been pre-calculated with the function\n",
    "    Catchment_Weights_Meta().\n",
    "    '''\n",
    "    # Section for loading of data and opening of an output file\n",
    "    if rprt:\n",
    "        atime = time.time()\n",
    "    \n",
    "    clim_dat,rlat,rlon,timeCDX,metadata,txtfname = ECCO.Read_CORDEX_V2(nc_path) # CORDEX NetCDF Read file\n",
    "    vname, m1, m2, dexp, m3, m4, m5, m6, drange_orignial = metadata        # Metadata of fname string\n",
    "    var_type = clim_dat.standard_name                                      # What kind of CORDEX data?\n",
    "    dat_loaded = clim_dat[:,:,:]                                           # Load CORDEX data into RAM\n",
    "    rlat_loaded = rlat[:]\n",
    "    rlon_loaded = rlon[:]\n",
    "    \n",
    "    thefilename = 'Catchment_'+str.split(nc_path,'/')[-1][:-3] \n",
    "    FILE= outputprefix + thefilename +'.h5'                # Set up HDF5 file output\n",
    "    if os.path.isfile(FILE) == True:\n",
    "        print 'File already exists: Overwriting...'\n",
    "        os.remove(FILE)\n",
    "    else:\n",
    "        print 'Creating file: ',FILE\n",
    "    f = h5py.File(FILE,'w')\n",
    "    \n",
    "    # Metadata contains EB_id(index), area, npix, xpix, ypix\n",
    "    # Where the number of pixels is 1, we can use the xpix, ypix directly as the time series\n",
    "    # Where the npix is larger than 1, we can call the precalculated array of weights.\n",
    "    catch_meta = pd.read_csv('Catchments/Metadata/Catchment_meta.csv') # Metadata\n",
    "    catch_meta = catch_meta.set_index('EB_id')              # Hex code is used as id\n",
    "    \n",
    "    lake_file='Catchments/ecco_biwa_catchments_part_1.shp'  # just for testing...\n",
    "    ShapeData = osgeo.ogr.Open(lake_file)                   # Connection to catchment shapes\n",
    "    TheLayer = ShapeData.GetLayer(iLayer=0)\n",
    "        \n",
    "    if rprt:\n",
    "        btime = time.time()\n",
    "    if sbar:\n",
    "        icnt = 0\n",
    "    tot_shapes = 274791  # total number of shapes in the three shape files\n",
    "    \n",
    "    # For the three catchment files - loop over each file and do every feature element\n",
    "    catchflist = []                               # Gather precalculated surface weights \n",
    "    for fnm in glob.glob(\"Catchments/*.shp\"):     # N.b. You can precalculate as many as you\n",
    "        catchflist.append(fnm)\n",
    "        #print fnm\n",
    "        ShapeData = osgeo.ogr.Open(fnm)           # Make a link to Lake Shape Files\n",
    "        TheLayer = ShapeData.GetLayer(iLayer=0)\n",
    "        dolakes=range(TheLayer.GetFeatureCount()) # Create a range to loop over lake features  \n",
    "   \n",
    "        for n in dolakes:\n",
    "            tlist = []                        # Will hold the time series for each n of dolake\n",
    "            feature1 = TheLayer.GetFeature(n)                        # Get catchtment data\n",
    "            lake_feature = feature1.ExportToJson(as_object=True)     # Convert to JSON\n",
    "            EB_id = hex(int(lake_feature['properties']['ebint']))[2:]# Extract id number\n",
    "            wgs85_xy = Reproj_Catchment(lake_feature=lake_feature,\n",
    "                                       chatty=False)                  # Convert to WGS system\n",
    "            lake_cart = ECCO.Path_LkIsl_ShpFile([wgs85_xy])          # Create shape object\n",
    "            lake_rprj = ECCO.Path_Reproj(lake_cart,False)            # Reproj 2 Plr rotated\n",
    "                    \n",
    "            if plots:     \n",
    "                ECCO.Preview_Lake(lake_cart)        \n",
    "                print 'Area in km^2 (not inc. islands):',ECCO.Area_Lake_and_Islands(lake_poly=lake_cart)         \n",
    "                print ', No. xy bound. points:',len(lake_cart.vertices)\n",
    "            \n",
    "            if catch_meta.npix[EB_id] == 1:\n",
    "                #print 'One pixel check:',EB_id,catch_meta.npix[EB_id]\n",
    "                ypix = catch_meta.ypix[EB_id]       # Get the pre-calc. pixel indexes...\n",
    "                xpix = catch_meta.xpix[EB_id]       # ...calc in MT_Gen_SWeights() earlier\n",
    "                tlist = dat_loaded[:, ypix, xpix]\n",
    "                #plt.plot(tlist-273.15,alpha=0.4)\n",
    "                #plt.show()\n",
    "            elif catch_meta.npix[EB_id] > 1:\n",
    "                weight_mask = get_catchweight(tmp_ebid=EB_id)  # Get the catchment weights from precalc file\n",
    "                # If you were to calculate the weighted mask again you can do it from this...\n",
    "                # weight_mask = ECCO.Pixel_Weights(lake_in=lake_rprj,datin=sub_clim,\n",
    "                #                                 lat_atts=sub_rlat,lon_atts=sub_rlon)\n",
    "                \n",
    "                #plt.imshow(weight_mask,interpolation='none',cmap=plt.cm.gray,origin='lower')\n",
    "            \n",
    "                sub_clim,sub_rlat,sub_rlon = ECCO.TrimToLake3D(lake_rprj,dat_loaded,rlat_loaded,rlon_loaded,\n",
    "                                                      off = 3, show = False)\n",
    "                \n",
    "                #print 'More pixels check:',EB_id,catch_meta.npix[EB_id]\n",
    "                tlist = ECCO.Weighted_Mean_3D(weight_mask=weight_mask,all_time_clim=sub_clim,chatty=False)\n",
    "                #tlist2 = ECCO.Weighted_Mean_3D_old(weight_mask=weight_mask,all_time_clim=sub_clim,chatty=False)       \n",
    "                #plt.plot(tlist-273.15,tlist2-273.15alpha=0.4)  # shows old vs new weighting func to test if \n",
    "                #plt.show() # that was a potential error source. Seems like it is fine.          \n",
    "                \n",
    "            if plots:\n",
    "                ECCO.Show_LakeAndData(lake_rprj,dat_loaded[0,:,:],rlat,rlon,zoom=6.)\n",
    "                ECCO.Preview_Weights(lake_rprj,weight_mask,sub_rlat,sub_rlon) \n",
    "            \n",
    "            if sbar:\n",
    "                icnt=icnt+1\n",
    "                if (float(icnt) % 10.) == 0.0:\n",
    "                    ECCO.Update_Progress(float(icnt)/(tot_shapes-1.0))\n",
    "                    \n",
    "            write_hdf_catchment(fw=f,EB_id=EB_id,tseries=tlist)  #Write timeseries data to HDF file\n",
    "            # Loop of n (all features)\n",
    "        # Loop of 3 shape files (containing features)\n",
    "    # Outside of all loops\n",
    "    f.close()   # Close the HDF5 file after looped through all 3 shape files\n",
    "    #subprocess.call([\"gzip\", FILE])     # Compress the file and remove original with gzip             \n",
    "    #-------------------------------------------------------------------------------------------\n",
    "    if rprt:      # Finish and report time if requested\n",
    "        print '\\nTime to read data: %4.2f sec'%(btime - atime)\n",
    "        print 'Time to Process %i shapes: %4.2f sec'%(tot_shapes,time.time() - btime)\n",
    "    return"
   ]
  },
  {
   "cell_type": "code",
   "execution_count": 44,
   "metadata": {
    "collapsed": false
   },
   "outputs": [
    {
     "name": "stdout",
     "output_type": "stream",
     "text": [
      "File already exists: Overwriting...\n",
      "Progress: [########################################] 100% \n",
      "\n",
      "Time to read data: 4.75 sec\n",
      "Time to Process 274791 shapes: 6265.31 sec\n"
     ]
    }
   ],
   "source": [
    "#nc_path ='CORDEX/tas_EUR-11_ICHEC-EC-EARTH_rcp45_r1i1p1_KNMI-RACMO22E_v1_day_20960101-21001231.nc'\n",
    "nc_path='/uio/kant/geo-metos-u1/blaken/datadisk/ECCO/CORDEX/Data_CORDEX/tas_EUR-11_ICHEC-EC-EARTH_historical_r1i1p1_KNMI-RACMO22E_v1_day_19660101-19701231.nc'\n",
    "Outprefix = 'Catchments/Tests/'\n",
    "\n",
    "catchment_timeseries(nc_path=nc_path, outputprefix=Outprefix, plots=False, rprt=True, sbar=True)\n",
    "\n",
    "#Catchment_Weights_Meta(nc_path=nc_path,sbar=True)"
   ]
  },
  {
   "cell_type": "code",
   "execution_count": 31,
   "metadata": {
    "collapsed": false
   },
   "outputs": [],
   "source": [
    "def write_hdf_catchment(fw,EB_id,tseries):\n",
    "    '''\n",
    "    Simple writing using H5py module in HDF5 format.\n",
    "    (This should be used for the final program) to\n",
    "    write the catchment time series data to hdf file.\n",
    "    '''\n",
    "    dim1 = len(tseries)\n",
    "    dset = fw.create_dataset(EB_id,(dim1,),dtype='f')\n",
    "    dset[...]=tseries\n",
    "    return"
   ]
  },
  {
   "cell_type": "code",
   "execution_count": null,
   "metadata": {
    "collapsed": false
   },
   "outputs": [],
   "source": []
  },
  {
   "cell_type": "code",
   "execution_count": null,
   "metadata": {
    "collapsed": false
   },
   "outputs": [],
   "source": []
  },
  {
   "cell_type": "code",
   "execution_count": 14,
   "metadata": {
    "collapsed": false
   },
   "outputs": [],
   "source": [
    "def Catchment_Weights_Meta(nc_path,sbar=False):\n",
    "    '''\n",
    "    From catchment data, generate surface weights if requested, and meta\n",
    "    data files also.\n",
    "    '''\n",
    "    # 1. LOAD Climate DATA\n",
    "    clim_dat,rlat,rlon,timeCDX,metadata,txtfname = ECCO.Read_CORDEX_V2(nc_path) # CORDEX NetCDF Read file\n",
    "    vname, m1, m2, dexp, m3, m4, m5, m6, drange_orignial = metadata        # Metadata of fname string\n",
    "    var_type = clim_dat.standard_name                                      # What kind of CORDEX data?\n",
    "    dat_loaded = clim_dat[:,:,:]                                           # Load CORDEX data into RAM\n",
    "    rlat_loaded = rlat[:]\n",
    "    rlon_loaded = rlon[:]\n",
    "\n",
    "    # Create a hdf5 file of catchment weights\n",
    "    thefilename = 'catchment_weights'\n",
    "    FILE= 'Catchments/Weights/' + thefilename +'.h5'                # Set up HDF5 file output\n",
    "    if os.path.isfile(FILE) == True:\n",
    "        print 'HDF5 File already exists. Leaving loop so you dont clobber it by accident.'\n",
    "        print 'To run this function, decide manually if you want to remove it or not.'\n",
    "        return\n",
    "        #print 'hdf weights file exists, removing it...'\n",
    "        #os.remove(FILE)\n",
    "    else:\n",
    "        print 'Creating file: ',FILE\n",
    "        fweights = h5py.File(FILE,'w')\n",
    "    \n",
    "    # set and write header info for the metadata file\n",
    "    metacsv = 'Catchments/Metadata/Catchment_meta.csv'\n",
    "    if os.path.isfile(metacsv) == True:\n",
    "        print 'Earlier metadata exists. Erasing it...'\n",
    "        os.remove(metacsv)\n",
    "    tmplist = ['EB_id','area','npix','ypix','xpix'] \n",
    "    write_metadata_csv(mfname=metacsv,meta_list=tmplist)\n",
    "    \n",
    "    if sbar ==True:\n",
    "        icnt = 0\n",
    "    \n",
    "    # For the three catchment files - loop over each file and do every feature element...\n",
    "    catchflist = []                                     # Gather precalculated surface weights \n",
    "    for fnm in glob.glob(\"Catchments/*.shp\"):           # N.b. You can precalculate as many as you\n",
    "        catchflist.append(fnm)\n",
    "        #print(fnm)\n",
    "        ShapeData = osgeo.ogr.Open(fnm)                  # Make a link to Lake Shape Files\n",
    "        TheLayer = ShapeData.GetLayer(iLayer=0)\n",
    "        #print(TheLayer.GetFeatureCount())\n",
    "        dolakes=range(TheLayer.GetFeatureCount())   # Create a range to loop over lake features   \n",
    "     \n",
    "        for n in dolakes:\n",
    "            tlist = []\n",
    "            feature1 = TheLayer.GetFeature(n)                        # Get catchtment data\n",
    "            lake_feature = feature1.ExportToJson(as_object=True)     # Convert to JSON\n",
    "            EB_id = hex(int(lake_feature['properties']['ebint']))[2:]# Extract id number\n",
    "            wgs85_xy = Reproj_Catchment(lake_feature=lake_feature,\n",
    "                                       chatty=False)   # Convert to WGS system\n",
    "            lake_cart = ECCO.Path_LkIsl_ShpFile([wgs85_xy])          # Create shape object\n",
    "            lake_rprj = ECCO.Path_Reproj(lake_cart,False)            # Reproj 2 Plr rotated\n",
    "        \n",
    "            sub_clim,sub_rlat,sub_rlon = ECCO.TrimToLake(lake_in=lake_rprj,Cdat=dat_loaded[0,:,:],\n",
    "                                                         rlat=rlat_loaded,rlon=rlon_loaded,\n",
    "                                                         off = 3, show = False) \n",
    "        \n",
    "            weight_mask = ECCO.Pixel_Weights(lake_in=lake_rprj,datin=sub_clim,\n",
    "                                             lat_atts=sub_rlat,lon_atts=sub_rlon)\n",
    "            \n",
    "            # For making the surface-weights saved .npy arrays and metadata (pixel counts and xy)\n",
    "            pix_truth = (weight_mask > 0.0)    # Count how many times the weight mask is\n",
    "            pxnum = len(weight_mask[pix_truth])  #  above 0.0 (i.e. how many pixels of data are needed)\n",
    "        \n",
    "            if pxnum > 1:\n",
    "                #np.save('Catchments/Weights/'+EB_id,weight_mask)\n",
    "                Write_HDF_weights(fw=fweights,EB_id=EB_id,weights=weight_mask) \n",
    "                ypix = -99\n",
    "                xpix = -99\n",
    "\n",
    "            if pxnum < 1:\n",
    "                pxnum = 1                                               # Small bug fix, no biggy...\n",
    "            if pxnum == 1:\n",
    "                xxx,yyy = ECCO.Get_LatLonLim(xypath=lake_rprj.vertices)  # Find upp./low.lake lims.\n",
    "                ypix = (ECCO.Closest(array=rlat,value=yyy[0]))                # For lakes of one pixel  \n",
    "                xpix = (ECCO.Closest(array=rlon,value=xxx[0]))\n",
    "                #print 'one pixel (x,y):',xpix,ypix\n",
    "            #print EB_id, ECCO.Area_Lake_and_Islands(lake_poly=lake_cart),pxnum,ypix,xpix\n",
    "            tmplist=[EB_id, ECCO.Area_Lake_and_Islands(lake_poly=lake_cart),pxnum,ypix,xpix]\n",
    "            write_metadata_csv(mfname=metacsv,meta_list=tmplist)\n",
    "            \n",
    "            if sbar ==True:\n",
    "                icnt=icnt+1\n",
    "                if (float(icnt) % 10.) == 0.0:\n",
    "                    ECCO.Update_Progress(float(icnt)/274791.)\n",
    "    fweights.close()\n",
    "    return"
   ]
  },
  {
   "cell_type": "code",
   "execution_count": 77,
   "metadata": {
    "collapsed": false
   },
   "outputs": [],
   "source": []
  },
  {
   "cell_type": "code",
   "execution_count": null,
   "metadata": {
    "collapsed": false
   },
   "outputs": [],
   "source": []
  },
  {
   "cell_type": "code",
   "execution_count": null,
   "metadata": {
    "collapsed": false
   },
   "outputs": [],
   "source": []
  },
  {
   "cell_type": "code",
   "execution_count": 60,
   "metadata": {
    "collapsed": false
   },
   "outputs": [],
   "source": []
  },
  {
   "cell_type": "code",
   "execution_count": null,
   "metadata": {
    "collapsed": false
   },
   "outputs": [],
   "source": []
  },
  {
   "cell_type": "code",
   "execution_count": 62,
   "metadata": {
    "collapsed": false
   },
   "outputs": [],
   "source": []
  },
  {
   "cell_type": "code",
   "execution_count": null,
   "metadata": {
    "collapsed": false
   },
   "outputs": [],
   "source": []
  },
  {
   "cell_type": "code",
   "execution_count": 46,
   "metadata": {
    "collapsed": false
   },
   "outputs": [],
   "source": [
    "# Example of reading the data from a hdf5 file after creation using the metdatada as a lookup\n",
    "filein = 'Catchments/Tests/Catchment_tas_EUR-11_ICHEC-EC-EARTH_historical_r1i1p1_KNMI-RACMO22E_v1_day_19660101-19701231.h5'\n",
    "\n",
    "f = h5py.File(filein,\"r\")\n",
    "test = f[catch_meta.index[-1]]\n",
    "#plt.plot(test[:]-272.15)"
   ]
  },
  {
   "cell_type": "code",
   "execution_count": 57,
   "metadata": {
    "collapsed": false
   },
   "outputs": [],
   "source": [
    "f.close()"
   ]
  },
  {
   "cell_type": "code",
   "execution_count": 58,
   "metadata": {
    "collapsed": false
   },
   "outputs": [
    {
     "name": "stdout",
     "output_type": "stream",
     "text": [
      "Object `subprocess` not found.\n"
     ]
    }
   ],
   "source": [
    "subprocess"
   ]
  },
  {
   "cell_type": "code",
   "execution_count": null,
   "metadata": {
    "collapsed": false
   },
   "outputs": [],
   "source": []
  },
  {
   "cell_type": "code",
   "execution_count": null,
   "metadata": {
    "collapsed": true
   },
   "outputs": [],
   "source": []
  }
 ],
 "metadata": {
  "kernelspec": {
   "display_name": "Python 2",
   "language": "python",
   "name": "python2"
  },
  "language_info": {
   "codemirror_mode": {
    "name": "ipython",
    "version": 2
   },
   "file_extension": ".py",
   "mimetype": "text/x-python",
   "name": "python",
   "nbconvert_exporter": "python",
   "pygments_lexer": "ipython2",
   "version": "2.7.9"
  }
 },
 "nbformat": 4,
 "nbformat_minor": 0
}
