{
 "metadata": {
  "name": "",
  "signature": "sha256:6f2594368c010cf4875da5f69dc90f75994e9dbf48582a192b6089402d7f8e04"
 },
 "nbformat": 3,
 "nbformat_minor": 0,
 "worksheets": [
  {
   "cells": [
    {
     "cell_type": "code",
     "collapsed": false,
     "input": [
      "from ECCO_functions_v2 import *\n",
      "\n",
      "# Import some required modules and settings\n",
      "#import numpy as np\n",
      "#import scipy as sci\n",
      "#import matplotlib.pyplot as plt\n",
      "#import pandas as pd\n",
      "#import datetime as dt\n",
      "#import h5py\n",
      "import glob\n",
      "import os\n",
      "\n",
      "#pylab.rcParams['figure.figsize']=(10.0,8.0)\n"
     ],
     "language": "python",
     "metadata": {},
     "outputs": [],
     "prompt_number": 1
    },
    {
     "cell_type": "code",
     "collapsed": false,
     "input": [
      "lk_processed_inf = pd.read_csv('Lakes/Meta_Lakes.csv')"
     ],
     "language": "python",
     "metadata": {},
     "outputs": [],
     "prompt_number": 3
    },
    {
     "cell_type": "code",
     "collapsed": false,
     "input": [
      "def Fast_v3(nc_path, lake_file, outputprefix,lstart=0,lstop=275264,\n",
      "                       hexlist=None,tt=None,plots = False,rprt=False,sbar=False,\n",
      "                       rprt_loop=False):\n",
      "    # Input:\n",
      "    #\n",
      "    #       hexlist      If not None, this must be a list of hexcodes which match lake codes.\n",
      "    #                    These codes will be the list of lakes to be processed, with\n",
      "    #                    (regardless of lstart / lstop settings). The list should be ascii values\n",
      "    #                    in any order. E.g. hexlist = ['a2204','155980','d23e4a','7aa917']\n",
      "    #\n",
      "    # k.w.agrs:   \n",
      "    #\n",
      "    #       plots        True or False(default). If True, preview plots are created. I reccomend\n",
      "    #                    using this feature carefully. Unless you have set a very small number of\n",
      "    #                    lakes, this will produce a huge number of plots!\n",
      "    #\n",
      "    #       rprt         Returns information on how long the program took to load the data,\n",
      "    #                    complete, and how many lakes were processed.\n",
      "    #    \n",
      "    #       rprt_loop    Returns info on how long each specific lake took (can be a lot...)\n",
      "    #\n",
      "    #       sbar         Create a status bar, to show the progression through a large loop. Not\n",
      "    #                    shown by default. As, when this pro is on MPI it is not a good feature.\n",
      "    #\n",
      "    # Notes:       Out of 275265 total lakes, 264532 of them are within one pixel of EUR-11 data.\n",
      "    #              Metadata called from lake hexcode as index: not shapefile feature number.\n",
      "    #----------------------------------------------------------------------------------------------\n",
      "    #\n",
      "    # 1. LOADING DATA SECTION\n",
      "    if rprt == True:\n",
      "        atime = clock.time()\n",
      "    \n",
      "    lk_processed_inf = pd.read_csv('Lakes/Meta_Lakes.csv')  # Pre-processed lake metadata (CSV)\n",
      "    lk_processed_inf.index = lk_processed_inf.hex           # Use the hex-code column as the index \n",
      "    \n",
      "    ShapeData = osgeo.ogr.Open(lake_file)                  # Make a link to Lake Shape Files\n",
      "    TheLayer = ShapeData.GetLayer(iLayer=0)\n",
      "    \n",
      "    clim_dat,rlat,rlon,timeCDX,metadata,txtfname = Read_CORDEX_V2(nc_path) # CORDEX NetCDF Read file\n",
      "    vname, m1, m2, dexp, m3, m4, m5, m6, drange_orignial = metadata     # Metadata of fname string\n",
      "    var_type = clim_dat.standard_name                                   # What kind of CORDEX data?\n",
      "    dat_loaded = clim_dat[:,:,:]                                        # Load CORDEX data into RAM\n",
      "    \n",
      "    orog = Height_CORDEX()                                 # NetCDF EUR-11 surface height data \n",
      "    \n",
      "    precalculated = []                                     # Gather precalculated surface weights \n",
      "    for fnm in glob.glob(\"Lakes/Weights/*.npy\"):           # N.b. You can precalculate as many as you\n",
      "        precalculated.append(fnm[14:-4])                   # like: place in folder to run (for speed)\n",
      "    precalculated = np.array(precalculated)                # Make it a np.array (needed for functions)\n",
      "    \n",
      "    if hexlist == None:                                    # Set up the list of lakes to process:\n",
      "        dolakes=arange(lstart,lstop,1)          #If no Hexcodes, use lstart/lstop to form a list\n",
      "    else:\n",
      "        dolakes= lk_processed_inf.num[test]     #If hexcodes, then gen. list of nums from PD object\n",
      "    \n",
      "    thefilename = 'Lakes_'+str.split(nc_path,'/')[-1][:-3]\n",
      "    \n",
      "\n",
      "    # Set up HDF5 file output\n",
      "    FILE= outputprefix + thefilename +'.h5'\n",
      "    #print FILE\n",
      "    if os.path.isfile(FILE) == True:\n",
      "        print 'Earlier file already exists: I am assuming it should be overwritten...'\n",
      "        os.remove(FILE)\n",
      "    else:\n",
      "        print 'No file found, moving on'\n",
      "    f = h5py.File(FILE,'w')\n",
      "    \n",
      "    #-----------------------------------------------------------------------------------------------\n",
      "    # 2. LOOP OVER ALL LAKES (or specified lakes from lstart to lstop)\n",
      "    if rprt == True:\n",
      "        btime = clock.time()\n",
      "    if sbar ==True:\n",
      "        icnt = 0\n",
      "    for n in dolakes:\n",
      "        tlist = []\n",
      "        if rprt_loop == True:\n",
      "            ltime = clock.time()\n",
      "        \n",
      "        feature1 = TheLayer.GetFeature(n)           # Get individ. lake in shapefile\n",
      "        lake_feature = feature1.ExportToJson(as_object=True)\n",
      "        lake_cart = Path_LkIsl_ShpFile(lake_feature['geometry']['coordinates'])\n",
      "        lake_altitude=lake_feature['properties']['vfp_mean']\n",
      "        EB_id = lake_feature['properties']['EBhex']\n",
      "        EB_id = EB_id[2:]                           # Strip off the hexcode label 0x\n",
      "        lake_rprj = Path_Reproj(lake_cart,False)    # Reproj. lake to CORDEX plr. rotated\n",
      "        if rprt_loop == True:\n",
      "            print 'Check:',n,EB_id,lk_processed_inf.hex[EB_id],lk_processed_inf.npix[EB_id]\n",
      "        \n",
      "        if EB_id != lk_processed_inf.index[n]:      # Some handy error check\n",
      "            print 'Warning! Lake feature and metadata miss-match for some reason. Check it out:'\n",
      "            print 'Problem at:',num,lk_processed_inf.num[n],EB_id[2:],lk_processed_inf.index[n]\n",
      "    \n",
      "        if plots == True:     \n",
      "            Preview_Lake(lake_cart)        \n",
      "            print 'Area in km^2 (not inc. islands):', Area_Lake_and_Islands(lake_cart),         \n",
      "            print ', No. xy bound. points:',len(lake_cart.vertices)\n",
      "\n",
      "        if lk_processed_inf.npix[EB_id] == 1:         # ONE PIXEL LAKES <<<\n",
      "            ypix = lk_processed_inf.ypix[EB_id]       # Get the pre-calc. pixel indexes...\n",
      "            xpix = lk_processed_inf.xpix[EB_id]       # ...calc in MT_Gen_SWeights() earlier\n",
      "            offset = OnePix_HOffset(lake_altitude,orog[ypix, xpix],var_type)\n",
      "            tlist = dat_loaded[:, ypix, xpix]  \n",
      "            #print n,EB_id,' Offset:',offset\n",
      "            if rprt_loop == True:\n",
      "                print '1pix, only slicing. Time:',clock.time() - ltime\n",
      "        \n",
      "        else:                                         # LAKES OF MORE THAN ONE PIXEL <<<\n",
      "            pre_test = (lk_processed_inf.hex[EB_id] == precalculated)\n",
      "            if(any(pre_test) == True):                # Scipy's any() evalautes list truth\n",
      "                #print 'Using precalculated weight:', precalculated[pre_test][0]+'.npy'\n",
      "                weightfile = 'Lakes/Weights/'+precalculated[pre_test][0]+'.npy'\n",
      "                weight_mask = np.load(weightfile)\n",
      "                #plt.imshow(weight_mask,interpolation='none')\n",
      "            else:  # If no pre-calculated weight mask file then calculate it now.\n",
      "                sub_clim,sub_rlat,sub_rlon = TrimToLake(lake_rprj,dat_loaded[0,:,:],rlat,\n",
      "                                                        rlon,off = 3, show = False) \n",
      "                weight_mask = Pixel_Weights(lake_rprj,sub_clim,sub_rlat,sub_rlon)\n",
      "                #print 'Gone old skool'\n",
      "            # I now have a weighted_mask, regardless of if it was read in or calculated now.\n",
      "            if ((var_type == 'air_temperature')| (var_type == 'surface_air_pressure')): \n",
      "                sub_orog,sub_rlat,sub_rlon = TrimToLake(lake_rprj,orog,rlat,\n",
      "                                                            rlon,off = 3, show = False)\n",
      "                hght,offset = Orographic_Adjustment(weight_mask,sub_orog,\n",
      "                                                        lake_altitude,clim_dat,chatty=False)\n",
      "            else:\n",
      "                hght = -999.                         # If no offset calculated then\n",
      "                offset = -999.                       # just set them to missing data\n",
      "            \n",
      "            sub_clim,sub_rlat,sub_rlon = TrimToLake3D(lake_rprj,dat_loaded,rlat,rlon,\n",
      "                                                      off = 3, show = False)\n",
      "            tlist = Weighted_Mean_3D(weight_mask, sub_clim, chatty=False)  # Here's the t-series\n",
      "            tlist = np.squeeze(tlist)                                      # Remove empty dimension\n",
      "            \n",
      "            if plots == True:\n",
      "                Show_LakeAndData(lake_rprj,dat_loaded[0,:,:],rlat,rlon,zoom=6.)\n",
      "                Preview_Weights(lake_rprj,weight_mask,sub_rlat,sub_rlon) \n",
      "            \n",
      "            if rprt_loop == True:\n",
      "                print '>2pix, weighting needed. Time:',clock.time() - ltime\n",
      "            \n",
      "        if sbar ==True:\n",
      "            icnt=icnt+1\n",
      "            if (float(icnt) % 10.) == 0.0:\n",
      "                Update_Progress(float(icnt)/float(len(dolakes)-1))\n",
      "\n",
      "        Write_HDF(f,EB_id,tlist,offset,lk_processed_inf.area[n])\n",
      "\n",
      "    f.close()      # Close the HDF5 file after the lake loop finishes         \n",
      "    if rprt == True:\n",
      "        ctime = clock.time()\n",
      "    #-------------------------------------------------------------------------------------------\n",
      "    # 3. Finish and report if requested\n",
      "    if rprt == True:\n",
      "            print '\\nTime to read data: %4.2f sec'%(btime - atime)\n",
      "            print 'Time to Process %i lakes: %4.2f sec'%(len(dolakes),ctime - btime)\n",
      "\n",
      "    return"
     ],
     "language": "python",
     "metadata": {},
     "outputs": [],
     "prompt_number": 2
    },
    {
     "cell_type": "code",
     "collapsed": false,
     "input": [
      "def Write_HDF(f,EB_id,tlist,offset,area):\n",
      "    '''\n",
      "    Simple writing using H5py module in HDF5 format.\n",
      "    \n",
      "    '''\n",
      "    dset = f.create_dataset(EB_id,(len(tlist),),dtype='f')\n",
      "    dset.attrs['Area']=area\n",
      "    dset.attrs['Offset']=offset\n",
      "    dset[...]=tlist\n",
      "    return"
     ],
     "language": "python",
     "metadata": {},
     "outputs": [],
     "prompt_number": 3
    },
    {
     "cell_type": "heading",
     "level": 2,
     "metadata": {},
     "source": [
      "Test run...estimate 3hrs for full completion"
     ]
    },
    {
     "cell_type": "code",
     "collapsed": false,
     "input": [
      "nc_path = '/uio/kant/geo-metos-u1/blaken/datadisk/ECCO/CORDEX/Data_CORDEX/tas_EUR-11_ICHEC-EC-EARTH_historical_r1i1p1_KNMI-RACMO22E_v1_day_19660101-19701231.nc'\n",
      "out_path = 'Outputs/'\n",
      "lake_data='Lakes/ecco-biwa_lakes_v.0.2.shp'\n",
      "#lake_num = 266840  #2782   #266840 #(13 pixel lake - largest)"
     ],
     "language": "python",
     "metadata": {},
     "outputs": [],
     "prompt_number": 2
    },
    {
     "cell_type": "code",
     "collapsed": false,
     "input": [
      "Fast_v3(nc_path,lake_data,out_path,lstart=30700,lstop=32900,rprt=True,sbar=True,rprt_loop=False)"
     ],
     "language": "python",
     "metadata": {},
     "outputs": [
      {
       "output_type": "stream",
       "stream": "stdout",
       "text": [
        "No file found. Creating:  Outputs/Lakes_tas_EUR-11_ICHEC-EC-EARTH_historical_r1i1p1_KNMI-RACMO22E_v1_day_19660101-19701231.h5\n",
        "\r",
        "Progress: [----------------------------------------] 0% "
       ]
      },
      {
       "output_type": "stream",
       "stream": "stdout",
       "text": [
        "\r",
        "Progress: [----------------------------------------] 0% "
       ]
      },
      {
       "output_type": "stream",
       "stream": "stdout",
       "text": [
        "\r",
        "Progress: [#---------------------------------------] 1% "
       ]
      },
      {
       "output_type": "stream",
       "stream": "stdout",
       "text": [
        "\r",
        "Progress: [#---------------------------------------] 1% "
       ]
      },
      {
       "output_type": "stream",
       "stream": "stdout",
       "text": [
        "\r",
        "Progress: [#---------------------------------------] 2% "
       ]
      },
      {
       "output_type": "stream",
       "stream": "stdout",
       "text": [
        "\r",
        "Progress: [#---------------------------------------] 2% "
       ]
      },
      {
       "output_type": "stream",
       "stream": "stdout",
       "text": [
        "\r",
        "Progress: [#---------------------------------------] 3% "
       ]
      },
      {
       "output_type": "stream",
       "stream": "stdout",
       "text": [
        "\r",
        "Progress: [#---------------------------------------] 3% "
       ]
      },
      {
       "output_type": "stream",
       "stream": "stdout",
       "text": [
        "\r",
        "Progress: [##--------------------------------------] 4% "
       ]
      },
      {
       "output_type": "stream",
       "stream": "stdout",
       "text": [
        "\r",
        "Progress: [##--------------------------------------] 4% "
       ]
      },
      {
       "output_type": "stream",
       "stream": "stdout",
       "text": [
        "\r",
        "Progress: [##--------------------------------------] 5% "
       ]
      },
      {
       "output_type": "stream",
       "stream": "stdout",
       "text": [
        "\r",
        "Progress: [##--------------------------------------] 5% "
       ]
      },
      {
       "output_type": "stream",
       "stream": "stdout",
       "text": [
        "\r",
        "Progress: [##--------------------------------------] 5% "
       ]
      },
      {
       "output_type": "stream",
       "stream": "stdout",
       "text": [
        "\r",
        "Progress: [###-------------------------------------] 6% "
       ]
      },
      {
       "output_type": "stream",
       "stream": "stdout",
       "text": [
        "\r",
        "Progress: [###-------------------------------------] 6% "
       ]
      },
      {
       "output_type": "stream",
       "stream": "stdout",
       "text": [
        "\r",
        "Progress: [###-------------------------------------] 7% "
       ]
      },
      {
       "output_type": "stream",
       "stream": "stdout",
       "text": [
        "\r",
        "Progress: [###-------------------------------------] 7% "
       ]
      },
      {
       "output_type": "stream",
       "stream": "stdout",
       "text": [
        "\r",
        "Progress: [###-------------------------------------] 8% "
       ]
      },
      {
       "output_type": "stream",
       "stream": "stdout",
       "text": [
        "\r",
        "Progress: [###-------------------------------------] 8% "
       ]
      },
      {
       "output_type": "stream",
       "stream": "stdout",
       "text": [
        "\r",
        "Progress: [####------------------------------------] 9% "
       ]
      },
      {
       "output_type": "stream",
       "stream": "stdout",
       "text": [
        "\r",
        "Progress: [####------------------------------------] 9% "
       ]
      },
      {
       "output_type": "stream",
       "stream": "stdout",
       "text": [
        "\r",
        "Progress: [####------------------------------------] 10% "
       ]
      },
      {
       "output_type": "stream",
       "stream": "stdout",
       "text": [
        "\r",
        "Progress: [####------------------------------------] 10% "
       ]
      },
      {
       "output_type": "stream",
       "stream": "stdout",
       "text": [
        "\r",
        "Progress: [####------------------------------------] 10% "
       ]
      },
      {
       "output_type": "stream",
       "stream": "stdout",
       "text": [
        "\r",
        "Progress: [#####-----------------------------------] 11% "
       ]
      },
      {
       "output_type": "stream",
       "stream": "stdout",
       "text": [
        "\r",
        "Progress: [#####-----------------------------------] 11% "
       ]
      },
      {
       "output_type": "stream",
       "stream": "stdout",
       "text": [
        "\r",
        "Progress: [#####-----------------------------------] 12% "
       ]
      },
      {
       "output_type": "stream",
       "stream": "stdout",
       "text": [
        "\r",
        "Progress: [#####-----------------------------------] 12% "
       ]
      },
      {
       "output_type": "stream",
       "stream": "stdout",
       "text": [
        "\r",
        "Progress: [#####-----------------------------------] 13% "
       ]
      },
      {
       "output_type": "stream",
       "stream": "stdout",
       "text": [
        "\r",
        "Progress: [#####-----------------------------------] 13% "
       ]
      },
      {
       "output_type": "stream",
       "stream": "stdout",
       "text": [
        "\r",
        "Progress: [######----------------------------------] 14% "
       ]
      },
      {
       "output_type": "stream",
       "stream": "stdout",
       "text": [
        "\r",
        "Progress: [######----------------------------------] 14% "
       ]
      },
      {
       "output_type": "stream",
       "stream": "stdout",
       "text": [
        "\r",
        "Progress: [######----------------------------------] 15% "
       ]
      },
      {
       "output_type": "stream",
       "stream": "stdout",
       "text": [
        "\r",
        "Progress: [######----------------------------------] 15% "
       ]
      },
      {
       "output_type": "stream",
       "stream": "stdout",
       "text": [
        "\r",
        "Progress: [######----------------------------------] 15% "
       ]
      },
      {
       "output_type": "stream",
       "stream": "stdout",
       "text": [
        "\r",
        "Progress: [#######---------------------------------] 16% "
       ]
      },
      {
       "output_type": "stream",
       "stream": "stdout",
       "text": [
        "\r",
        "Progress: [#######---------------------------------] 16% "
       ]
      },
      {
       "output_type": "stream",
       "stream": "stdout",
       "text": [
        "\r",
        "Progress: [#######---------------------------------] 17% "
       ]
      },
      {
       "output_type": "stream",
       "stream": "stdout",
       "text": [
        "\r",
        "Progress: [#######---------------------------------] 17% "
       ]
      },
      {
       "output_type": "stream",
       "stream": "stdout",
       "text": [
        "\r",
        "Progress: [#######---------------------------------] 18% "
       ]
      },
      {
       "output_type": "stream",
       "stream": "stdout",
       "text": [
        "\r",
        "Progress: [#######---------------------------------] 18% "
       ]
      },
      {
       "output_type": "stream",
       "stream": "stdout",
       "text": [
        "\r",
        "Progress: [########--------------------------------] 19% "
       ]
      },
      {
       "output_type": "stream",
       "stream": "stdout",
       "text": [
        "\r",
        "Progress: [########--------------------------------] 19% "
       ]
      },
      {
       "output_type": "stream",
       "stream": "stdout",
       "text": [
        "\r",
        "Progress: [########--------------------------------] 20% "
       ]
      },
      {
       "output_type": "stream",
       "stream": "stdout",
       "text": [
        "\r",
        "Progress: [########--------------------------------] 20% "
       ]
      },
      {
       "output_type": "stream",
       "stream": "stdout",
       "text": [
        "\r",
        "Progress: [########--------------------------------] 20% "
       ]
      },
      {
       "output_type": "stream",
       "stream": "stdout",
       "text": [
        "\r",
        "Progress: [#########-------------------------------] 21% "
       ]
      },
      {
       "output_type": "stream",
       "stream": "stdout",
       "text": [
        "\r",
        "Progress: [#########-------------------------------] 21% "
       ]
      },
      {
       "output_type": "stream",
       "stream": "stdout",
       "text": [
        "\r",
        "Progress: [#########-------------------------------] 22% "
       ]
      },
      {
       "output_type": "stream",
       "stream": "stdout",
       "text": [
        "\r",
        "Progress: [#########-------------------------------] 22% "
       ]
      },
      {
       "output_type": "stream",
       "stream": "stdout",
       "text": [
        "\r",
        "Progress: [#########-------------------------------] 23% "
       ]
      },
      {
       "output_type": "stream",
       "stream": "stdout",
       "text": [
        "\r",
        "Progress: [#########-------------------------------] 23% "
       ]
      },
      {
       "output_type": "stream",
       "stream": "stdout",
       "text": [
        "\r",
        "Progress: [##########------------------------------] 24% "
       ]
      },
      {
       "output_type": "stream",
       "stream": "stdout",
       "text": [
        "\r",
        "Progress: [##########------------------------------] 24% "
       ]
      },
      {
       "output_type": "stream",
       "stream": "stdout",
       "text": [
        "\r",
        "Progress: [##########------------------------------] 25% "
       ]
      },
      {
       "output_type": "stream",
       "stream": "stdout",
       "text": [
        "\r",
        "Progress: [##########------------------------------] 25% "
       ]
      },
      {
       "output_type": "stream",
       "stream": "stdout",
       "text": [
        "\r",
        "Progress: [##########------------------------------] 25% "
       ]
      },
      {
       "output_type": "stream",
       "stream": "stdout",
       "text": [
        "\r",
        "Progress: [###########-----------------------------] 26% "
       ]
      },
      {
       "output_type": "stream",
       "stream": "stdout",
       "text": [
        "\r",
        "Progress: [###########-----------------------------] 26% "
       ]
      },
      {
       "output_type": "stream",
       "stream": "stdout",
       "text": [
        "\r",
        "Progress: [###########-----------------------------] 27% "
       ]
      },
      {
       "output_type": "stream",
       "stream": "stdout",
       "text": [
        "\r",
        "Progress: [###########-----------------------------] 27% "
       ]
      },
      {
       "output_type": "stream",
       "stream": "stdout",
       "text": [
        "\r",
        "Progress: [###########-----------------------------] 28% "
       ]
      },
      {
       "output_type": "stream",
       "stream": "stdout",
       "text": [
        "\r",
        "Progress: [###########-----------------------------] 28% "
       ]
      },
      {
       "output_type": "stream",
       "stream": "stdout",
       "text": [
        "\r",
        "Progress: [############----------------------------] 29% "
       ]
      },
      {
       "output_type": "stream",
       "stream": "stdout",
       "text": [
        "\r",
        "Progress: [############----------------------------] 29% "
       ]
      },
      {
       "output_type": "stream",
       "stream": "stdout",
       "text": [
        "\r",
        "Progress: [############----------------------------] 30% "
       ]
      },
      {
       "output_type": "stream",
       "stream": "stdout",
       "text": [
        "\r",
        "Progress: [############----------------------------] 30% "
       ]
      },
      {
       "output_type": "stream",
       "stream": "stdout",
       "text": [
        "\r",
        "Progress: [############----------------------------] 30% "
       ]
      },
      {
       "output_type": "stream",
       "stream": "stdout",
       "text": [
        "\r",
        "Progress: [#############---------------------------] 31% "
       ]
      },
      {
       "output_type": "stream",
       "stream": "stdout",
       "text": [
        "\r",
        "Progress: [#############---------------------------] 31% "
       ]
      },
      {
       "output_type": "stream",
       "stream": "stdout",
       "text": [
        "\r",
        "Progress: [#############---------------------------] 32% "
       ]
      },
      {
       "output_type": "stream",
       "stream": "stdout",
       "text": [
        "\r",
        "Progress: [#############---------------------------] 32% "
       ]
      },
      {
       "output_type": "stream",
       "stream": "stdout",
       "text": [
        "\r",
        "Progress: [#############---------------------------] 33% "
       ]
      },
      {
       "output_type": "stream",
       "stream": "stdout",
       "text": [
        "\r",
        "Progress: [#############---------------------------] 33% "
       ]
      },
      {
       "output_type": "stream",
       "stream": "stdout",
       "text": [
        "\r",
        "Progress: [##############--------------------------] 34% "
       ]
      },
      {
       "output_type": "stream",
       "stream": "stdout",
       "text": [
        "\r",
        "Progress: [##############--------------------------] 34% "
       ]
      },
      {
       "output_type": "stream",
       "stream": "stdout",
       "text": [
        "\r",
        "Progress: [##############--------------------------] 35% "
       ]
      },
      {
       "output_type": "stream",
       "stream": "stdout",
       "text": [
        "\r",
        "Progress: [##############--------------------------] 35% "
       ]
      },
      {
       "output_type": "stream",
       "stream": "stdout",
       "text": [
        "\r",
        "Progress: [##############--------------------------] 35% "
       ]
      },
      {
       "output_type": "stream",
       "stream": "stdout",
       "text": [
        "\r",
        "Progress: [###############-------------------------] 36% "
       ]
      },
      {
       "output_type": "stream",
       "stream": "stdout",
       "text": [
        "\r",
        "Progress: [###############-------------------------] 36% "
       ]
      },
      {
       "output_type": "stream",
       "stream": "stdout",
       "text": [
        "\r",
        "Progress: [###############-------------------------] 37% "
       ]
      },
      {
       "output_type": "stream",
       "stream": "stdout",
       "text": [
        "\r",
        "Progress: [###############-------------------------] 37% "
       ]
      },
      {
       "output_type": "stream",
       "stream": "stdout",
       "text": [
        "\r",
        "Progress: [###############-------------------------] 38% "
       ]
      },
      {
       "output_type": "stream",
       "stream": "stdout",
       "text": [
        "\r",
        "Progress: [###############-------------------------] 38% "
       ]
      },
      {
       "output_type": "stream",
       "stream": "stdout",
       "text": [
        "\r",
        "Progress: [################------------------------] 39% "
       ]
      },
      {
       "output_type": "stream",
       "stream": "stdout",
       "text": [
        "\r",
        "Progress: [################------------------------] 39% "
       ]
      },
      {
       "output_type": "stream",
       "stream": "stdout",
       "text": [
        "\r",
        "Progress: [################------------------------] 40% "
       ]
      },
      {
       "output_type": "stream",
       "stream": "stdout",
       "text": [
        "\r",
        "Progress: [################------------------------] 40% "
       ]
      },
      {
       "output_type": "stream",
       "stream": "stdout",
       "text": [
        "\r",
        "Progress: [################------------------------] 40% "
       ]
      },
      {
       "output_type": "stream",
       "stream": "stdout",
       "text": [
        "\r",
        "Progress: [#################-----------------------] 41% "
       ]
      },
      {
       "output_type": "stream",
       "stream": "stdout",
       "text": [
        "\r",
        "Progress: [#################-----------------------] 41% "
       ]
      },
      {
       "output_type": "stream",
       "stream": "stdout",
       "text": [
        "\r",
        "Progress: [#################-----------------------] 42% "
       ]
      },
      {
       "output_type": "stream",
       "stream": "stdout",
       "text": [
        "\r",
        "Progress: [#################-----------------------] 42% "
       ]
      },
      {
       "output_type": "stream",
       "stream": "stdout",
       "text": [
        "\r",
        "Progress: [#################-----------------------] 43% "
       ]
      },
      {
       "output_type": "stream",
       "stream": "stdout",
       "text": [
        "\r",
        "Progress: [#################-----------------------] 43% "
       ]
      },
      {
       "output_type": "stream",
       "stream": "stdout",
       "text": [
        "\r",
        "Progress: [##################----------------------] 44% "
       ]
      },
      {
       "output_type": "stream",
       "stream": "stdout",
       "text": [
        "\r",
        "Progress: [##################----------------------] 44% "
       ]
      },
      {
       "output_type": "stream",
       "stream": "stdout",
       "text": [
        "\r",
        "Progress: [##################----------------------] 45% "
       ]
      },
      {
       "output_type": "stream",
       "stream": "stdout",
       "text": [
        "\r",
        "Progress: [##################----------------------] 45% "
       ]
      },
      {
       "output_type": "stream",
       "stream": "stdout",
       "text": [
        "\r",
        "Progress: [##################----------------------] 45% "
       ]
      },
      {
       "output_type": "stream",
       "stream": "stdout",
       "text": [
        "\r",
        "Progress: [###################---------------------] 46% "
       ]
      },
      {
       "output_type": "stream",
       "stream": "stdout",
       "text": [
        "\r",
        "Progress: [###################---------------------] 46% "
       ]
      },
      {
       "output_type": "stream",
       "stream": "stdout",
       "text": [
        "\r",
        "Progress: [###################---------------------] 47% "
       ]
      },
      {
       "output_type": "stream",
       "stream": "stdout",
       "text": [
        "\r",
        "Progress: [###################---------------------] 47% "
       ]
      },
      {
       "output_type": "stream",
       "stream": "stdout",
       "text": [
        "\r",
        "Progress: [###################---------------------] 48% "
       ]
      },
      {
       "output_type": "stream",
       "stream": "stdout",
       "text": [
        "\r",
        "Progress: [###################---------------------] 48% "
       ]
      },
      {
       "output_type": "stream",
       "stream": "stdout",
       "text": [
        "\r",
        "Progress: [####################--------------------] 49% "
       ]
      },
      {
       "output_type": "stream",
       "stream": "stdout",
       "text": [
        "\r",
        "Progress: [####################--------------------] 49% "
       ]
      },
      {
       "output_type": "stream",
       "stream": "stdout",
       "text": [
        "\r",
        "Progress: [####################--------------------] 50% "
       ]
      },
      {
       "output_type": "stream",
       "stream": "stdout",
       "text": [
        "\r",
        "Progress: [####################--------------------] 50% "
       ]
      },
      {
       "output_type": "stream",
       "stream": "stdout",
       "text": [
        "\r",
        "Progress: [####################--------------------] 50% "
       ]
      },
      {
       "output_type": "stream",
       "stream": "stdout",
       "text": [
        "\r",
        "Progress: [#####################-------------------] 51% "
       ]
      },
      {
       "output_type": "stream",
       "stream": "stdout",
       "text": [
        "\r",
        "Progress: [#####################-------------------] 51% "
       ]
      },
      {
       "output_type": "stream",
       "stream": "stdout",
       "text": [
        "\r",
        "Progress: [#####################-------------------] 52% "
       ]
      },
      {
       "output_type": "stream",
       "stream": "stdout",
       "text": [
        "\r",
        "Progress: [#####################-------------------] 52% "
       ]
      },
      {
       "output_type": "stream",
       "stream": "stdout",
       "text": [
        "\r",
        "Progress: [#####################-------------------] 53% "
       ]
      },
      {
       "output_type": "stream",
       "stream": "stdout",
       "text": [
        "\r",
        "Progress: [#####################-------------------] 53% "
       ]
      },
      {
       "output_type": "stream",
       "stream": "stdout",
       "text": [
        "\r",
        "Progress: [######################------------------] 54% "
       ]
      },
      {
       "output_type": "stream",
       "stream": "stdout",
       "text": [
        "\r",
        "Progress: [######################------------------] 54% "
       ]
      },
      {
       "output_type": "stream",
       "stream": "stdout",
       "text": [
        "\r",
        "Progress: [######################------------------] 55% "
       ]
      },
      {
       "output_type": "stream",
       "stream": "stdout",
       "text": [
        "\r",
        "Progress: [######################------------------] 55% "
       ]
      },
      {
       "output_type": "stream",
       "stream": "stdout",
       "text": [
        "\r",
        "Progress: [######################------------------] 55% "
       ]
      },
      {
       "output_type": "stream",
       "stream": "stdout",
       "text": [
        "\r",
        "Progress: [#######################-----------------] 56% "
       ]
      },
      {
       "output_type": "stream",
       "stream": "stdout",
       "text": [
        "\r",
        "Progress: [#######################-----------------] 56% "
       ]
      },
      {
       "output_type": "stream",
       "stream": "stdout",
       "text": [
        "\r",
        "Progress: [#######################-----------------] 57% "
       ]
      },
      {
       "output_type": "stream",
       "stream": "stdout",
       "text": [
        "\r",
        "Progress: [#######################-----------------] 57% "
       ]
      },
      {
       "output_type": "stream",
       "stream": "stdout",
       "text": [
        "\r",
        "Progress: [#######################-----------------] 58% "
       ]
      },
      {
       "output_type": "stream",
       "stream": "stdout",
       "text": [
        "\r",
        "Progress: [#######################-----------------] 58% "
       ]
      },
      {
       "output_type": "stream",
       "stream": "stdout",
       "text": [
        "\r",
        "Progress: [########################----------------] 59% "
       ]
      },
      {
       "output_type": "stream",
       "stream": "stdout",
       "text": [
        "\r",
        "Progress: [########################----------------] 59% "
       ]
      },
      {
       "output_type": "stream",
       "stream": "stdout",
       "text": [
        "\r",
        "Progress: [########################----------------] 60% "
       ]
      },
      {
       "output_type": "stream",
       "stream": "stdout",
       "text": [
        "\r",
        "Progress: [########################----------------] 60% "
       ]
      },
      {
       "output_type": "stream",
       "stream": "stdout",
       "text": [
        "\r",
        "Progress: [########################----------------] 60% "
       ]
      },
      {
       "output_type": "stream",
       "stream": "stdout",
       "text": [
        "\r",
        "Progress: [#########################---------------] 61% "
       ]
      },
      {
       "output_type": "stream",
       "stream": "stdout",
       "text": [
        "\r",
        "Progress: [#########################---------------] 61% "
       ]
      },
      {
       "output_type": "stream",
       "stream": "stdout",
       "text": [
        "\r",
        "Progress: [#########################---------------] 62% "
       ]
      },
      {
       "output_type": "stream",
       "stream": "stdout",
       "text": [
        "\r",
        "Progress: [#########################---------------] 62% "
       ]
      },
      {
       "output_type": "stream",
       "stream": "stdout",
       "text": [
        "\r",
        "Progress: [#########################---------------] 63% "
       ]
      },
      {
       "output_type": "stream",
       "stream": "stdout",
       "text": [
        "\r",
        "Progress: [#########################---------------] 63% "
       ]
      },
      {
       "output_type": "stream",
       "stream": "stdout",
       "text": [
        "\r",
        "Progress: [##########################--------------] 64% "
       ]
      },
      {
       "output_type": "stream",
       "stream": "stdout",
       "text": [
        "\r",
        "Progress: [##########################--------------] 64% "
       ]
      },
      {
       "output_type": "stream",
       "stream": "stdout",
       "text": [
        "\r",
        "Progress: [##########################--------------] 65% "
       ]
      },
      {
       "output_type": "stream",
       "stream": "stdout",
       "text": [
        "\r",
        "Progress: [##########################--------------] 65% "
       ]
      },
      {
       "output_type": "stream",
       "stream": "stdout",
       "text": [
        "\r",
        "Progress: [##########################--------------] 65% "
       ]
      },
      {
       "output_type": "stream",
       "stream": "stdout",
       "text": [
        "\r",
        "Progress: [###########################-------------] 66% "
       ]
      },
      {
       "output_type": "stream",
       "stream": "stdout",
       "text": [
        "\r",
        "Progress: [###########################-------------] 66% "
       ]
      },
      {
       "output_type": "stream",
       "stream": "stdout",
       "text": [
        "\r",
        "Progress: [###########################-------------] 67% "
       ]
      },
      {
       "output_type": "stream",
       "stream": "stdout",
       "text": [
        "\r",
        "Progress: [###########################-------------] 67% "
       ]
      },
      {
       "output_type": "stream",
       "stream": "stdout",
       "text": [
        "\r",
        "Progress: [###########################-------------] 68% "
       ]
      },
      {
       "output_type": "stream",
       "stream": "stdout",
       "text": [
        "\r",
        "Progress: [###########################-------------] 68% "
       ]
      },
      {
       "output_type": "stream",
       "stream": "stdout",
       "text": [
        "\r",
        "Progress: [############################------------] 69% "
       ]
      },
      {
       "output_type": "stream",
       "stream": "stdout",
       "text": [
        "\r",
        "Progress: [############################------------] 69% "
       ]
      },
      {
       "output_type": "stream",
       "stream": "stdout",
       "text": [
        "\r",
        "Progress: [############################------------] 70% "
       ]
      },
      {
       "output_type": "stream",
       "stream": "stdout",
       "text": [
        "\r",
        "Progress: [############################------------] 70% "
       ]
      },
      {
       "output_type": "stream",
       "stream": "stdout",
       "text": [
        "\r",
        "Progress: [############################------------] 70% "
       ]
      },
      {
       "output_type": "stream",
       "stream": "stdout",
       "text": [
        "\r",
        "Progress: [#############################-----------] 71% "
       ]
      },
      {
       "output_type": "stream",
       "stream": "stdout",
       "text": [
        "\r",
        "Progress: [#############################-----------] 71% "
       ]
      },
      {
       "output_type": "stream",
       "stream": "stdout",
       "text": [
        "\r",
        "Progress: [#############################-----------] 72% "
       ]
      },
      {
       "output_type": "stream",
       "stream": "stdout",
       "text": [
        "\r",
        "Progress: [#############################-----------] 72% "
       ]
      },
      {
       "output_type": "stream",
       "stream": "stdout",
       "text": [
        "\r",
        "Progress: [#############################-----------] 73% "
       ]
      },
      {
       "output_type": "stream",
       "stream": "stdout",
       "text": [
        "\r",
        "Progress: [#############################-----------] 73% "
       ]
      },
      {
       "output_type": "stream",
       "stream": "stdout",
       "text": [
        "\r",
        "Progress: [##############################----------] 74% "
       ]
      },
      {
       "output_type": "stream",
       "stream": "stdout",
       "text": [
        "\r",
        "Progress: [##############################----------] 74% "
       ]
      },
      {
       "output_type": "stream",
       "stream": "stdout",
       "text": [
        "\r",
        "Progress: [##############################----------] 75% "
       ]
      },
      {
       "output_type": "stream",
       "stream": "stdout",
       "text": [
        "\r",
        "Progress: [##############################----------] 75% "
       ]
      },
      {
       "output_type": "stream",
       "stream": "stdout",
       "text": [
        "\r",
        "Progress: [##############################----------] 75% "
       ]
      },
      {
       "output_type": "stream",
       "stream": "stdout",
       "text": [
        "\r",
        "Progress: [###############################---------] 76% "
       ]
      },
      {
       "output_type": "stream",
       "stream": "stdout",
       "text": [
        "\r",
        "Progress: [###############################---------] 76% "
       ]
      },
      {
       "output_type": "stream",
       "stream": "stdout",
       "text": [
        "\r",
        "Progress: [###############################---------] 77% "
       ]
      },
      {
       "output_type": "stream",
       "stream": "stdout",
       "text": [
        "\r",
        "Progress: [###############################---------] 77% "
       ]
      },
      {
       "output_type": "stream",
       "stream": "stdout",
       "text": [
        "\r",
        "Progress: [###############################---------] 78% "
       ]
      },
      {
       "output_type": "stream",
       "stream": "stdout",
       "text": [
        "\r",
        "Progress: [###############################---------] 78% "
       ]
      },
      {
       "output_type": "stream",
       "stream": "stdout",
       "text": [
        "\r",
        "Progress: [################################--------] 79% "
       ]
      },
      {
       "output_type": "stream",
       "stream": "stdout",
       "text": [
        "\r",
        "Progress: [################################--------] 79% "
       ]
      },
      {
       "output_type": "stream",
       "stream": "stdout",
       "text": [
        "\r",
        "Progress: [################################--------] 80% "
       ]
      },
      {
       "output_type": "stream",
       "stream": "stdout",
       "text": [
        "\r",
        "Progress: [################################--------] 80% "
       ]
      },
      {
       "output_type": "stream",
       "stream": "stdout",
       "text": [
        "\r",
        "Progress: [################################--------] 80% "
       ]
      },
      {
       "output_type": "stream",
       "stream": "stdout",
       "text": [
        "\r",
        "Progress: [#################################-------] 81% "
       ]
      },
      {
       "output_type": "stream",
       "stream": "stdout",
       "text": [
        "\r",
        "Progress: [#################################-------] 81% "
       ]
      },
      {
       "output_type": "stream",
       "stream": "stdout",
       "text": [
        "\r",
        "Progress: [#################################-------] 82% "
       ]
      },
      {
       "output_type": "stream",
       "stream": "stdout",
       "text": [
        "\r",
        "Progress: [#################################-------] 82% "
       ]
      },
      {
       "output_type": "stream",
       "stream": "stdout",
       "text": [
        "\r",
        "Progress: [#################################-------] 83% "
       ]
      },
      {
       "output_type": "stream",
       "stream": "stdout",
       "text": [
        "\r",
        "Progress: [#################################-------] 83% "
       ]
      },
      {
       "output_type": "stream",
       "stream": "stdout",
       "text": [
        "\r",
        "Progress: [##################################------] 84% "
       ]
      },
      {
       "output_type": "stream",
       "stream": "stdout",
       "text": [
        "\r",
        "Progress: [##################################------] 84% "
       ]
      },
      {
       "output_type": "stream",
       "stream": "stdout",
       "text": [
        "\r",
        "Progress: [##################################------] 85% "
       ]
      },
      {
       "output_type": "stream",
       "stream": "stdout",
       "text": [
        "\r",
        "Progress: [##################################------] 85% "
       ]
      },
      {
       "output_type": "stream",
       "stream": "stdout",
       "text": [
        "\r",
        "Progress: [##################################------] 85% "
       ]
      },
      {
       "output_type": "stream",
       "stream": "stdout",
       "text": [
        "\r",
        "Progress: [###################################-----] 86% "
       ]
      },
      {
       "output_type": "stream",
       "stream": "stdout",
       "text": [
        "\r",
        "Progress: [###################################-----] 86% "
       ]
      },
      {
       "output_type": "stream",
       "stream": "stdout",
       "text": [
        "\r",
        "Progress: [###################################-----] 87% "
       ]
      },
      {
       "output_type": "stream",
       "stream": "stdout",
       "text": [
        "\r",
        "Progress: [###################################-----] 87% "
       ]
      },
      {
       "output_type": "stream",
       "stream": "stdout",
       "text": [
        "\r",
        "Progress: [###################################-----] 88% "
       ]
      },
      {
       "output_type": "stream",
       "stream": "stdout",
       "text": [
        "\r",
        "Progress: [###################################-----] 88% "
       ]
      },
      {
       "output_type": "stream",
       "stream": "stdout",
       "text": [
        "\r",
        "Progress: [####################################----] 89% "
       ]
      },
      {
       "output_type": "stream",
       "stream": "stdout",
       "text": [
        "\r",
        "Progress: [####################################----] 89% "
       ]
      },
      {
       "output_type": "stream",
       "stream": "stdout",
       "text": [
        "\r",
        "Progress: [####################################----] 90% "
       ]
      },
      {
       "output_type": "stream",
       "stream": "stdout",
       "text": [
        "\r",
        "Progress: [####################################----] 90% "
       ]
      },
      {
       "output_type": "stream",
       "stream": "stdout",
       "text": [
        "\r",
        "Progress: [####################################----] 90% "
       ]
      },
      {
       "output_type": "stream",
       "stream": "stdout",
       "text": [
        "\r",
        "Progress: [#####################################---] 91% "
       ]
      },
      {
       "output_type": "stream",
       "stream": "stdout",
       "text": [
        "\r",
        "Progress: [#####################################---] 91% "
       ]
      },
      {
       "output_type": "stream",
       "stream": "stdout",
       "text": [
        "\r",
        "Progress: [#####################################---] 92% "
       ]
      },
      {
       "output_type": "stream",
       "stream": "stdout",
       "text": [
        "\r",
        "Progress: [#####################################---] 92% "
       ]
      },
      {
       "output_type": "stream",
       "stream": "stdout",
       "text": [
        "\r",
        "Progress: [#####################################---] 93% "
       ]
      },
      {
       "output_type": "stream",
       "stream": "stdout",
       "text": [
        "\r",
        "Progress: [#####################################---] 93% "
       ]
      },
      {
       "output_type": "stream",
       "stream": "stdout",
       "text": [
        "\r",
        "Progress: [######################################--] 94% "
       ]
      },
      {
       "output_type": "stream",
       "stream": "stdout",
       "text": [
        "\r",
        "Progress: [######################################--] 94% "
       ]
      },
      {
       "output_type": "stream",
       "stream": "stdout",
       "text": [
        "\r",
        "Progress: [######################################--] 95% "
       ]
      },
      {
       "output_type": "stream",
       "stream": "stdout",
       "text": [
        "\r",
        "Progress: [######################################--] 95% "
       ]
      },
      {
       "output_type": "stream",
       "stream": "stdout",
       "text": [
        "\r",
        "Progress: [######################################--] 95% "
       ]
      },
      {
       "output_type": "stream",
       "stream": "stdout",
       "text": [
        "\r",
        "Progress: [#######################################-] 96% "
       ]
      },
      {
       "output_type": "stream",
       "stream": "stdout",
       "text": [
        "\r",
        "Progress: [#######################################-] 96% "
       ]
      },
      {
       "output_type": "stream",
       "stream": "stdout",
       "text": [
        "\r",
        "Progress: [#######################################-] 97% "
       ]
      },
      {
       "output_type": "stream",
       "stream": "stdout",
       "text": [
        "\r",
        "Progress: [#######################################-] 97% "
       ]
      },
      {
       "output_type": "stream",
       "stream": "stdout",
       "text": [
        "\r",
        "Progress: [#######################################-] 98% "
       ]
      },
      {
       "output_type": "stream",
       "stream": "stdout",
       "text": [
        "\r",
        "Progress: [#######################################-] 98% "
       ]
      },
      {
       "output_type": "stream",
       "stream": "stdout",
       "text": [
        "\r",
        "Progress: [########################################] 99% "
       ]
      },
      {
       "output_type": "stream",
       "stream": "stdout",
       "text": [
        "\r",
        "Progress: [########################################] 99% "
       ]
      },
      {
       "output_type": "stream",
       "stream": "stdout",
       "text": [
        "\r",
        "Progress: [########################################] 100% \r\n"
       ]
      },
      {
       "output_type": "stream",
       "stream": "stdout",
       "text": [
        "\n",
        "Time to read data: 5.30 sec\n",
        "Time to Process 2200 lakes: 4.26 sec\n"
       ]
      }
     ],
     "prompt_number": 3
    },
    {
     "cell_type": "heading",
     "level": 2,
     "metadata": {},
     "source": [
      "Testing code"
     ]
    },
    {
     "cell_type": "code",
     "collapsed": false,
     "input": [
      "import gzip\n",
      "import subprocess"
     ],
     "language": "python",
     "metadata": {},
     "outputs": [],
     "prompt_number": 22
    },
    {
     "cell_type": "code",
     "collapsed": false,
     "input": [
      "def zip_func('out_path',):\n",
      "    f_in = open('Outputs/Lakes_tas_EUR-11_ICHEC-EC-EARTH_historical_r1i1p1_KNMI-RACMO22E_v1_day_19660101-19701231.h5', 'rb')\n",
      "    f_out = gzip.open('Outputs/test.h5.gz', 'wb')\n",
      "    f_out.writelines(f_in)\n",
      "    f_out.close()\n",
      "    f_in.close()\n",
      "    return"
     ],
     "language": "python",
     "metadata": {},
     "outputs": [],
     "prompt_number": 23
    },
    {
     "cell_type": "code",
     "collapsed": false,
     "input": [
      "subprocess.call([\"gzip\", out_path + \"Lakes_tas_EUR-11_ICHEC-EC-EARTH_historical_r1i1p1_KNMI-RACMO22E_v1_day_19660101-19701231.h5\"])"
     ],
     "language": "python",
     "metadata": {},
     "outputs": [
      {
       "metadata": {},
       "output_type": "pyout",
       "prompt_number": 28,
       "text": [
        "0"
       ]
      }
     ],
     "prompt_number": 28
    },
    {
     "cell_type": "code",
     "collapsed": false,
     "input": [],
     "language": "python",
     "metadata": {},
     "outputs": [],
     "prompt_number": 23
    },
    {
     "cell_type": "code",
     "collapsed": false,
     "input": [],
     "language": "python",
     "metadata": {},
     "outputs": [],
     "prompt_number": 101
    },
    {
     "cell_type": "code",
     "collapsed": false,
     "input": [],
     "language": "python",
     "metadata": {},
     "outputs": [],
     "prompt_number": 4
    },
    {
     "cell_type": "code",
     "collapsed": false,
     "input": [
      "FILE='Outputs/h5ex_t_float.h5'\n",
      "\n",
      "if os.path.isfile(FILE) == True:\n",
      "    print 'Earlier file already exists: I am assuming it should be overwritten...'\n",
      "    os.remove(FILE)\n",
      "else:\n",
      "    print 'No file found, moving on'\n",
      "\n",
      "f = h5py.File(FILE,'w')\n",
      "\n",
      "for n in range(0,100):\n",
      "    test = random.random(100)\n",
      "    dset = f.create_dataset(\"Entry\"+str(n),(100,),dtype='f')\n",
      "    dset.attrs['an_attribute']=random.random(1)\n",
      "    dset[...]=test\n",
      "    \n",
      "f.close()\n"
     ],
     "language": "python",
     "metadata": {},
     "outputs": [
      {
       "metadata": {},
       "output_type": "pyout",
       "prompt_number": 17,
       "text": [
        "'\\nf = h5py.File(FILE,\\'w\\')\\n\\nfor n in range(0,10000):\\n    test = random.random(100000)\\n    dset = f.create_dataset(\"Entry\"+str(n),(100000,),dtype=\\'f\\')\\n    dset.attrs[\\'an_attribute\\']=random.random(1)\\n    dset[...]=test\\n    \\nf.close()\\n'"
       ]
      }
     ],
     "prompt_number": 17
    },
    {
     "cell_type": "code",
     "collapsed": false,
     "input": [],
     "language": "python",
     "metadata": {},
     "outputs": [],
     "prompt_number": 22
    },
    {
     "cell_type": "heading",
     "level": 2,
     "metadata": {},
     "source": [
      "Testing and test plotting"
     ]
    },
    {
     "cell_type": "code",
     "collapsed": false,
     "input": [
      "a = lk_processed_inf.ptime >= 0.5\n",
      "b = lk_processed_inf.npix > 1\n",
      "\n",
      "print 'Total no of lakes',len(lk_processed_inf)\n",
      "print 'No of lakes with weight mask time > 1 sec:',len(lk_processed_inf.npix[a])\n",
      "print 'No of lakes with >1 pix:',len(lk_processed_inf.npix[b])\n",
      "\n",
      "#print lk_processed_inf.index[a]"
     ],
     "language": "python",
     "metadata": {},
     "outputs": [
      {
       "output_type": "stream",
       "stream": "stdout",
       "text": [
        "Total no of lakes 275265\n",
        "No of lakes with weight mask time > 1 sec: 965\n",
        "No of lakes with >1 pix: 10733\n"
       ]
      }
     ],
     "prompt_number": 33
    },
    {
     "cell_type": "code",
     "collapsed": false,
     "input": [
      "a = lk_processed_inf.npix > 1\n",
      "(lk_processed_inf.num[a][0])"
     ],
     "language": "python",
     "metadata": {},
     "outputs": [
      {
       "metadata": {},
       "output_type": "pyout",
       "prompt_number": 207,
       "text": [
        "2"
       ]
      }
     ],
     "prompt_number": 207
    },
    {
     "cell_type": "code",
     "collapsed": false,
     "input": [
      "#lk_processed_inf = pd.read_csv('Lakes/Meta_Lake.dat')  # Pre-processed lake metadata (CSV)\n",
      "lk_processed_inf.index = lk_processed_inf.hex          # Use the hex-code column as the index\n",
      "lk_processed_inf = lk_processed_inf.drop('hex',1)      # No need to keep the column "
     ],
     "language": "python",
     "metadata": {},
     "outputs": [],
     "prompt_number": 44
    },
    {
     "cell_type": "code",
     "collapsed": false,
     "input": [
      "#os.chdir(\"\")\n",
      "precalculated = []\n",
      "for fnm in glob.glob(\"Lakes/Weights/*.npy\"):\n",
      "    precalculated.append(fnm[14:-4])\n",
      "\n",
      "for i,n in enumerate(precalculated[80:100]):\n",
      "    print i+80, n, lk_processed_inf.npix[n]"
     ],
     "language": "python",
     "metadata": {},
     "outputs": [
      {
       "output_type": "stream",
       "stream": "stdout",
       "text": [
        "80 39ed70 1\n",
        "81 753e70 1\n",
        "82 65fa32 1\n",
        "83 7f673c 1\n",
        "84 518726 1\n",
        "85 dc4f04 1\n",
        "86 27c094 1\n",
        "87 338a1c 1\n",
        "88 c10728 2\n",
        "89 d1b3dd 1\n",
        "90 61ea58 1\n",
        "91 46a69c 1\n",
        "92 11559b 1\n",
        "93 613109 1\n",
        "94 ab2611 1\n",
        "95 b893e3 1\n",
        "96 a0498 1\n",
        "97 966f8d 1\n",
        "98 be7e24 1\n",
        "99 abd8ff 1\n"
       ]
      }
     ],
     "prompt_number": 163
    },
    {
     "cell_type": "code",
     "collapsed": false,
     "input": [
      "atest = lk_processed_inf.index[0] == precalculated\n",
      "print atest"
     ],
     "language": "python",
     "metadata": {},
     "outputs": [
      {
       "output_type": "stream",
       "stream": "stdout",
       "text": [
        "False\n"
       ]
      }
     ],
     "prompt_number": 131
    },
    {
     "cell_type": "code",
     "collapsed": false,
     "input": [
      "precalculated = np.array(precalculated)\n",
      "n = lk_processed_inf.num[precalculated[88]]\n",
      "print 'Should be true at', n,' hex =',lk_processed_inf.index[n],'pix=',lk_processed_inf.npix[n]\n",
      "# 491 is true\n",
      "#atest = np.where(lk_processed_inf.index[3027] == precalculated)\n",
      "#if(atest[0] == True):\n",
      "#    print 'A precalculated weight is present'\n",
      "\n",
      "\n",
      "pre_test = (lk_processed_inf.index[n] == precalculated)\n",
      "#print precalculated[atest]\n",
      "if(any(pre_test) == True):  # Scipy's any() evalautes list truth\n",
      "    print 'A precalculated weight is present for', precalculated[pre_test][0]\n"
     ],
     "language": "python",
     "metadata": {},
     "outputs": [
      {
       "output_type": "stream",
       "stream": "stdout",
       "text": [
        "Should be true at 59372  hex = c10728 pix= 2\n",
        "A precalculated weight is present for c10728\n"
       ]
      }
     ],
     "prompt_number": 190
    },
    {
     "cell_type": "code",
     "collapsed": false,
     "input": [],
     "language": "python",
     "metadata": {},
     "outputs": [],
     "prompt_number": 138
    },
    {
     "cell_type": "code",
     "collapsed": false,
     "input": [
      "n, bins, patches = hist(lk_processed_inf.area, 30, normed=False, histtype='stepfilled',\n",
      "                        log=True,align='mid')\n",
      "setp(patches, 'facecolor', 'b', 'alpha', 0.75)\n",
      "plt.title('Number of Lakes by area')\n",
      "plt.xlabel(r'Area ($km^{2}$)')\n",
      "plt.ylabel('Number of Lakes')\n",
      "plt.grid(True)\n"
     ],
     "language": "python",
     "metadata": {},
     "outputs": [
      {
       "metadata": {},
       "output_type": "display_data",
       "png": "[encoded data removed]",
       "text": [
        "<matplotlib.figure.Figure at 0x7fe84e486950>"
       ]
      }
     ],
     "prompt_number": 128
    },
    {
     "cell_type": "code",
     "collapsed": false,
     "input": [
      "\n",
      "plt.hist(lk_processed_inf.area, bins=np.logspace(0.1, 3.0, 50),normed=True, \n",
      "         alpha=0.75,histtype='stepfilled')\n",
      "plt.gca().set_xscale(\"log\")\n",
      "#plt.gca().set_yscale(\"log\")\n",
      "\n",
      "plt.title('Density of Lakes by area (of <3 $km^{2}$)',fontsize=11)\n",
      "plt.xlabel(r'Area ($km^{2}$)')\n",
      "plt.ylabel('Density of Lakes')\n",
      "plt.grid(True)\n",
      "plt.show()"
     ],
     "language": "python",
     "metadata": {},
     "outputs": [
      {
       "metadata": {},
       "output_type": "display_data",
       "png": "[encoded data removed]",
       "text": [
        "<matplotlib.figure.Figure at 0x7f572a699290>"
       ]
      }
     ],
     "prompt_number": 16
    },
    {
     "cell_type": "code",
     "collapsed": false,
     "input": [
      "lk_processed_inf.hex[0]"
     ],
     "language": "python",
     "metadata": {},
     "outputs": [
      {
       "metadata": {},
       "output_type": "pyout",
       "prompt_number": 42,
       "text": [
        "'a2204'"
       ]
      }
     ],
     "prompt_number": 42
    },
    {
     "cell_type": "code",
     "collapsed": false,
     "input": [
      "longtime =  lk_processed_inf.ptime > 6\n",
      "print len(lk_processed_inf.ptime[longtime])\n",
      "print lk_processed_inf.ptime[longtime]"
     ],
     "language": "python",
     "metadata": {},
     "outputs": [
      {
       "output_type": "stream",
       "stream": "stdout",
       "text": [
        "12\n",
        "266232     20.27\n",
        "268396     11.47\n",
        "272836      7.30\n",
        "272837     26.45\n",
        "272846     10.36\n",
        "272850    354.02\n",
        "272864     14.35\n",
        "272891      8.75\n",
        "272902     14.37\n",
        "272912      7.09\n",
        "272938     27.27\n",
        "272954     46.46\n",
        "Name: ptime, dtype: float64\n"
       ]
      }
     ],
     "prompt_number": 3
    },
    {
     "cell_type": "code",
     "collapsed": false,
     "input": [],
     "language": "python",
     "metadata": {},
     "outputs": [],
     "prompt_number": 2
    },
    {
     "cell_type": "code",
     "collapsed": false,
     "input": [
      "plt.plot(lk_processed_inf.npix,lk_processed_inf.ptime,'rx')\n",
      "plt.yscale('log')\n",
      "plt.xscale('log')"
     ],
     "language": "python",
     "metadata": {},
     "outputs": [
      {
       "metadata": {},
       "output_type": "display_data",
       "png": "[encoded data removed]",
       "text": [
        "<matplotlib.figure.Figure at 0x7f572a5b47d0>"
       ]
      }
     ],
     "prompt_number": 9
    },
    {
     "cell_type": "code",
     "collapsed": false,
     "input": [
      "plt.plot(lk_processed_inf.xpix,lk_processed_inf.ypix,'b,')\n",
      "plt.xlim(150,350)\n",
      "plt.ylim(250,410)\n",
      "plt.title('X,Y CORDEX points corresponding to one-pixel lakes')"
     ],
     "language": "python",
     "metadata": {},
     "outputs": [
      {
       "metadata": {},
       "output_type": "pyout",
       "prompt_number": 41,
       "text": [
        "<matplotlib.text.Text at 0x7f5728582a50>"
       ]
      },
      {
       "metadata": {},
       "output_type": "display_data",
       "png": "[encoded data removed]",
       "text": [
        "<matplotlib.figure.Figure at 0x7f5728b4aa50>"
       ]
      }
     ],
     "prompt_number": 41
    },
    {
     "cell_type": "code",
     "collapsed": false,
     "input": [],
     "language": "python",
     "metadata": {},
     "outputs": []
    }
   ],
   "metadata": {}
  }
 ]
}