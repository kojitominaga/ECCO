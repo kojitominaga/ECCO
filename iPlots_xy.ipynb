{
 "metadata": {
  "name": "",
  "signature": "sha256:17bbf59d50cc6f73d0669be74554253fc94d7a834f0a2e308fa6e274d0299508"
 },
 "nbformat": 3,
 "nbformat_minor": 0,
 "worksheets": [
  {
   "cells": [
    {
     "cell_type": "code",
     "collapsed": false,
     "input": [
      "from __future__ import print_function,division,generators\n",
      "%pylab inline\n",
      "from bokeh.plotting import *\n",
      "from bokeh.models import HoverTool\n",
      "from collections import OrderedDict\n",
      "import pandas as pd\n",
      "import osgeo.ogr\n",
      "import ECCO_functions as ECCO\n",
      "from IPython.html.widgets import interact\n",
      "import scipy.stats as ss\n",
      "import sys\n",
      "\n",
      "#output_notebook()                                           # Render in the notebook\n",
      "output_file(\"Meta_Lakes_xy.html\", title=\"ECCO Lakes (x,y)\")  # Save to a webpage"
     ],
     "language": "python",
     "metadata": {},
     "outputs": [
      {
       "output_type": "stream",
       "stream": "stdout",
       "text": [
        "Populating the interactive namespace from numpy and matplotlib\n",
        "Session output file 'Meta_Lakes_xy.html' already exists, will be overwritten."
       ]
      },
      {
       "output_type": "stream",
       "stream": "stdout",
       "text": [
        "\n"
       ]
      }
     ],
     "prompt_number": 3
    },
    {
     "cell_type": "code",
     "collapsed": false,
     "input": [
      "def status(current,end_val, bar_length=20):\n",
      "    percent = float(current) / end_val\n",
      "    hashes = '#' * int(round(percent * bar_length))\n",
      "    spaces = ' ' * (bar_length - len(hashes))\n",
      "    sys.stdout.write(\"\\rPercent: [{0}] {1}%\".format(hashes + spaces, int(round(percent * 100))))\n",
      "    sys.stdout.flush()"
     ],
     "language": "python",
     "metadata": {},
     "outputs": [],
     "prompt_number": 4
    },
    {
     "cell_type": "code",
     "collapsed": false,
     "input": [
      "meta = pd.read_csv('Metadata/Lake_Stats.csv')    # Very nice!\n",
      "meta.index = meta.Lake_ID                            # Index the metadata by lake ID's"
     ],
     "language": "python",
     "metadata": {},
     "outputs": [],
     "prompt_number": 5
    },
    {
     "cell_type": "code",
     "collapsed": false,
     "input": [
      "# Calculate radius of circles (size set by the rank of lake area)\n",
      "ranked = ss.rankdata(meta.Area)  # Use the Scipy.stats.rankdata function to calculate rank of lakes by Area\n",
      "ranked = (ranked/max(ranked))   # Normalize the rank size to values between 0 and 0.2"
     ],
     "language": "python",
     "metadata": {},
     "outputs": [],
     "prompt_number": 6
    },
    {
     "cell_type": "code",
     "collapsed": false,
     "input": [
      "# Heat map in linear scale, by normalized distance\n",
      "# Rank the lake 3D distance inland, and split the lakes into n catagories\n",
      "# for heat-map colouring\n",
      "color_map = [\n",
      "    \"#75968f\", \"#a5bab7\", \"#c9d9d3\", \"#e2e2e2\", \"#dfccce\",\n",
      "    \"#ddb7b1\", \"#cc7878\", \"#933b41\", \"#550b1d\"]\n",
      "\n",
      "rank3D = ss.rankdata(meta.Dist3D)/max(ss.rankdata(meta.Dist3D))\n",
      "lk_color= [0] * len(rank3D)   # Initilize a blank list of correct lenght\n",
      "increment = (max(rank3D)/len(color_map))\n",
      "base = 0.0\n",
      "for n,color in enumerate(color_map):\n",
      "    print('Catagory:',n,'Color:',color,'Norm. Rank of', base,'-->',base+increment)\n",
      "    tmp = np.where((rank3D >= base) & (rank3D <= (base+increment)))\n",
      "    for nele in tmp[0]:\n",
      "        lk_color[nele]= color   # Here is where the color is added to a list \n",
      "    base += increment"
     ],
     "language": "python",
     "metadata": {},
     "outputs": [
      {
       "output_type": "stream",
       "stream": "stdout",
       "text": [
        "Catagory: 0 Color: #75968f Norm. Rank of 0.0 --> 0.111111111111\n",
        "Catagory: 1 Color: #a5bab7 Norm. Rank of 0.111111111111 --> 0.222222222222\n",
        "Catagory: 2 Color: #c9d9d3 Norm. Rank of 0.222222222222 --> 0.333333333333\n",
        "Catagory: 3 Color: #e2e2e2 Norm. Rank of 0.333333333333 --> 0.444444444444\n",
        "Catagory: 4 Color: #dfccce Norm. Rank of 0.444444444444 --> 0.555555555556\n",
        "Catagory: 5 Color: #ddb7b1 Norm. Rank of 0.555555555556 --> 0.666666666667\n",
        "Catagory: 6 Color: #cc7878 Norm. Rank of 0.666666666667 --> 0.777777777778\n",
        "Catagory: 7 Color: #933b41 Norm. Rank of 0.777777777778 --> 0.888888888889\n",
        "Catagory:"
       ]
      },
      {
       "output_type": "stream",
       "stream": "stdout",
       "text": [
        " 8 Color: #550b1d Norm. Rank of 0.888888888889 --> 1.0\n"
       ]
      }
     ],
     "prompt_number": 7
    },
    {
     "cell_type": "code",
     "collapsed": false,
     "input": [
      "# Heat Map with log-like scale, by distance in km\n",
      "# Rank the lake 3D distance inland, and split the lakes into n catagories\n",
      "# for heat-map colouring\n",
      "#color_map = [\n",
      "#    \"#75968f\", \"#a5bab7\", \"#c9d9d3\", \"#e2e2e2\", \"#dfccce\",\n",
      "#    \"#ddb7b1\", \"#cc7878\", \"#933b41\", \"#550b1d\"]\n",
      "\n",
      "color_map=[\n",
      "    '#1A0F00','#331F00','#4C2E00','#663D00','#804C00',  # Orange scale\n",
      "    '#995C00','#B26B00','#CC7A00','#E68A00','#FF9900',\n",
      "    '#FFA319','#FFAD33','#FFB84D','#FFC266','#FFCC80',\n",
      "    '#FFD699','#FFE0B2','#FFEBCC','#FFF5E6','#FFFFFF']\n",
      "\n",
      "\n",
      "color_map = color_map[::-1]  # Reverse the list \n",
      "\n",
      "lk_color= [0] * len(meta.Dist3D)   # Initilize a blank list of correct lenght\n",
      "#increment = (max(rank3D)/len(color_map))\n",
      "base = 0.0\n",
      "# km increments between 0 and >200\n",
      "steps=[2.,2.,2.,2.,2.,20.,20.,20.,20.,20.,20,20.,20.,20.,20.,20.,20.,20.,20.,20.]\n",
      "for n,step in enumerate(steps):\n",
      "    tmp = np.where((meta.Dist3D >= base) & (meta.Dist3D <= (base+step)))\n",
      "    print('Catagory:',n,'Color:',color_map[n],'Norm. Rank of', base,'-->',\n",
      "          base+step,' No:',len(tmp[0]))\n",
      "    for nele in tmp[0]:\n",
      "        lk_color[nele]= color_map[n]   # Here is where the color is added to a list \n",
      "    base += step"
     ],
     "language": "python",
     "metadata": {},
     "outputs": [
      {
       "output_type": "stream",
       "stream": "stdout",
       "text": [
        "Catagory: 0 Color: #FFFFFF Norm. Rank of 0.0 --> 2.0  No: 9780\n",
        "Catagory: 1 Color: #FFF5E6 Norm. Rank of 2.0 --> 4.0  No: 11786\n",
        "Catagory: 2 Color: #FFEBCC Norm. Rank of 4.0 --> 6.0  No: 7906\n",
        "Catagory: 3 Color: #FFE0B2 Norm. Rank of 6.0 --> 8.0  No: 6178\n",
        "Catagory: 4 Color: #FFD699 Norm. Rank of 8.0 --> 10.0  No: 5512\n",
        "Catagory: 5 Color: #FFCC80 Norm. Rank of 10.0 --> 30.0  No: 37758\n",
        "Catagory:"
       ]
      },
      {
       "output_type": "stream",
       "stream": "stdout",
       "text": [
        " 6 Color: #FFC266 Norm. Rank of 30.0 --> 50.0  No: 29322\n",
        "Catagory: 7 Color: #FFB84D Norm. Rank of 50.0 --> 70.0  No: 27231\n",
        "Catagory: 8 Color: #FFAD33 Norm. Rank of 70.0 --> 90.0  No: 23567\n",
        "Catagory: 9 Color: #FFA319 Norm. Rank of 90.0 --> 110.0  No: 25639\n",
        "Catagory:"
       ]
      },
      {
       "output_type": "stream",
       "stream": "stdout",
       "text": [
        " 10 Color: #FF9900 Norm. Rank of 110.0 --> 130.0  No: 23288\n",
        "Catagory: 11 Color: #E68A00 Norm. Rank of 130.0 --> 150.0  No: 22894\n",
        "Catagory: 12 Color: #CC7A00 Norm. Rank of 150.0 --> 170.0  No: 18487\n",
        "Catagory: 13 Color: #B26B00 Norm. Rank of 170.0 --> 190.0  No: 10768\n",
        "Catagory:"
       ]
      },
      {
       "output_type": "stream",
       "stream": "stdout",
       "text": [
        " 14 Color: #995C00 Norm. Rank of 190.0 --> 210.0  No: 5551\n",
        "Catagory: 15 Color: #804C00 Norm. Rank of 210.0 --> 230.0  No: 4394\n",
        "Catagory: 16 Color: #663D00 Norm. Rank of 230.0 --> 250.0  No: 2881\n",
        "Catagory: 17 Color: #4C2E00 Norm. Rank of 250.0 --> 270.0  No: 2043\n",
        "Catagory: 18 Color: #331F00 Norm. Rank of 270.0 --> 290.0  No: 160\n",
        "Catagory: 19 Color: #1A0F00 Norm. Rank of 290.0 --> 310.0  No: 0\n"
       ]
      }
     ],
     "prompt_number": 12
    },
    {
     "cell_type": "code",
     "collapsed": false,
     "input": [
      "country_file = '/Users/Ben/Work/Python/Programs/ECCO/Metadata/TM_WORLD_BORDERS-0/TM_WORLD_BORDERS-0.3.shp'\n",
      "ShapeData = osgeo.ogr.Open(country_file)                  # Make a link to TM world borders\n",
      "TheLayer = ShapeData.GetLayer(iLayer=0)\n",
      "\n",
      "Find_Countries=['Norway','Finland','Sweden']\n",
      "Ctry_xpoints=[]\n",
      "Ctry_ypoints=[]\n",
      "Ctry_Names=[]\n",
      "Ctry_alt=[]   # entries will be blank fields for hover tool\n",
      "Ctry_area=[]\n",
      "Ctry_id=[]\n",
      "\n",
      "ShapeData = osgeo.ogr.Open(country_file)                  # Make a link to TM world borders\n",
      "TheLayer = ShapeData.GetLayer(iLayer=0)\n",
      "\n",
      "for n in range(246):\n",
      "    tmp_feature = TheLayer.GetFeature(n).ExportToJson(as_object=True)\n",
      "    if tmp_feature['properties']['NAME'] in Find_Countries:\n",
      "        print('Found shape of',tmp_feature['properties']['NAME'])\n",
      "        \n",
      "        \n",
      "        xpoints =[]                                                             # Tmp hold\n",
      "        ypoints =[]\n",
      "        if(len(tmp_feature['geometry']['coordinates']) == 1):  # if only one polygon in country\n",
      "            xpoints=[]\n",
      "            ypoints=[]\n",
      "            for points in tmp_feature['geometry']['coordinates'][0]:\n",
      "                #print(points[0],points[1])\n",
      "                xpoints.append(points[0])\n",
      "                ypoints.append(points[1])\n",
      "            Ctry_xpoints.append(xpoints)\n",
      "            Ctry_ypoints.append(ypoints)\n",
      "            Ctry_Names.append([tmp_feature['properties']['NAME']])\n",
      "            Ctry_alt.append(['n/a'])\n",
      "            Ctry_area.append(['n/a'])\n",
      "            \n",
      "        if(len(tmp_feature['geometry']['coordinates']) > 3):\n",
      "            for n in range(len(tmp_feature['geometry']['coordinates'])):\n",
      "                xpoints=[]\n",
      "                ypoints=[]\n",
      "                for points in tmp_feature['geometry']['coordinates'][n][0]:\n",
      "                    #print(points[0],points[1])\n",
      "                    xpoints.append(points[0])\n",
      "                    ypoints.append(points[1])\n",
      "                Ctry_xpoints.append(xpoints)\n",
      "                Ctry_ypoints.append(ypoints)\n",
      "                Ctry_Names.append([tmp_feature['properties']['NAME']])\n",
      "                Ctry_alt.append(['n/a'])\n",
      "                Ctry_area.append(['n/a'])\n"
     ],
     "language": "python",
     "metadata": {},
     "outputs": [
      {
       "output_type": "stream",
       "stream": "stdout",
       "text": [
        "Found shape of Finland\n",
        "Found shape of"
       ]
      },
      {
       "output_type": "stream",
       "stream": "stdout",
       "text": [
        " Norway\n",
        "Found shape of"
       ]
      },
      {
       "output_type": "stream",
       "stream": "stdout",
       "text": [
        " Sweden\n"
       ]
      }
     ],
     "prompt_number": 9
    },
    {
     "cell_type": "code",
     "collapsed": false,
     "input": [
      "# Set the plotting dictionaries\n",
      "source = 0\n",
      "\n",
      "TOOLS=\"pan,wheel_zoom,box_zoom,reset,resize,hover,save\"\n",
      "\n",
      "\n",
      "# Set up Country Shape plots\n",
      "source2 = ColumnDataSource(     # Construct a data dictionary for Bokeh to use\n",
      "    data=dict(\n",
      "        x=Ctry_xpoints,\n",
      "        y=Ctry_ypoints,\n",
      "        Ctry=Ctry_Names,\n",
      "        Area=Ctry_area,       # N/a containers\n",
      "        z=Ctry_area,\n",
      "        ID_list=Ctry_area,\n",
      "        Inland=Ctry_area,\n",
      "    )\n",
      ")\n",
      "\n",
      "\n",
      "\n",
      "# Set up lake plots\n",
      "source = ColumnDataSource(  \n",
      "    data=dict(\n",
      "        y=meta.Lat,\n",
      "        x=meta.Lon,\n",
      "        z=meta.Alt,\n",
      "        ID_list=meta.Lake_ID,\n",
      "        Area=meta.Area,\n",
      "        Ctry=meta.Country,\n",
      "        Inland=meta.Dist3D,\n",
      "        Radius=ranked,\n",
      "    )\n",
      ")\n"
     ],
     "language": "python",
     "metadata": {},
     "outputs": [],
     "prompt_number": 10
    },
    {
     "cell_type": "code",
     "collapsed": false,
     "input": [
      "p = 0\n",
      "\n",
      "p = figure(title=\"ECCO metadata (Lake x,y)\", tools=TOOLS)\n",
      "\n",
      "p.patches(\"x\", \"y\", fill_color='green',fill_alpha=1.,\n",
      "    line_color=None, line_width=0.5,source=source2)\n",
      "\n",
      "\n",
      "#p.circle(\"z\",\"y\", radius=(ranked*10.), source=source,            # Alt vs Lat\n",
      "#         fill_color=lk_color, fill_alpha=0.6,line_color=None)\n",
      "\n",
      "p.circle(\"x\",\"y\", radius=(ranked*0.01), source=source,            # Lon vs Lat\n",
      "         fill_color=lk_color, fill_alpha=0.7,line_color=None)\n",
      "\n",
      "\n",
      "hover = p.select(dict(type=HoverTool))\n",
      "\n",
      "hover.snap_to_data = True\n",
      "hover.tooltips = [\n",
      "    (\"Lake ID\", \"@ID_list\"),\n",
      "    (\"Lon.(\u00b0E), Lat.(\u00b0N)\", \"($x, $y)\"),\n",
      "    (\"Alt.(m)\", \"@z\"),\n",
      "    (\"Country\",\"@Ctry\"),\n",
      "    (\"Area (km&sup2;)\",\"@Area\"),\n",
      "    (\"Dist. to coast (km)\",\"@Inland\"),\n",
      "]\n",
      "\n",
      "p.yaxis.axis_label=\"Latitude (\u00b0N)\"\n",
      "p.xaxis.axis_label=\"Longitude (\u00b0E)\"\n",
      "#p.xaxis.axis_label=\"Altitude (m. above mean sea level)\"\n",
      "p.background_fill= \"#19D1FF\"\n",
      "\n",
      "show(p)"
     ],
     "language": "python",
     "metadata": {},
     "outputs": [],
     "prompt_number": 13
    },
    {
     "cell_type": "code",
     "collapsed": false,
     "input": [],
     "language": "python",
     "metadata": {},
     "outputs": [],
     "prompt_number": 11
    },
    {
     "cell_type": "code",
     "collapsed": false,
     "input": [],
     "language": "python",
     "metadata": {},
     "outputs": [],
     "prompt_number": 11
    },
    {
     "cell_type": "code",
     "collapsed": false,
     "input": [],
     "language": "python",
     "metadata": {},
     "outputs": [],
     "prompt_number": 11
    }
   ],
   "metadata": {}
  }
 ]
}