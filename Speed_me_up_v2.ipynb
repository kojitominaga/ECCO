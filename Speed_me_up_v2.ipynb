{
 "metadata": {
  "name": "",
  "signature": "sha256:2dc23ce818285a637bad36b7122ca31c875b4848ad4ab2abab1c2a33058fb3cc"
 },
 "nbformat": 3,
 "nbformat_minor": 0,
 "worksheets": [
  {
   "cells": [
    {
     "cell_type": "heading",
     "level": 2,
     "metadata": {},
     "source": [
      "Read functions"
     ]
    },
    {
     "cell_type": "code",
     "collapsed": false,
     "input": [
      "import numpy as np\n",
      "import sys, time, os, json\n",
      "from netCDF4 import Dataset  \n",
      "from matplotlib.path import Path\n",
      "from matplotlib import cm\n",
      "import matplotlib.patches as patches\n",
      "from matplotlib import path\n",
      "from matplotlib.transforms import Bbox\n",
      "from math import pi, cos, sin, radians, atan, asin\n",
      "import mpl_toolkits.basemap.pyproj as pyproj\n",
      "import matplotlib.pyplot as plt\n",
      "from multiprocessing import Process,Pool,cpu_count\n",
      "import os\n",
      "import time\n",
      "import time as clock\n",
      "import osgeo.ogr\n",
      "\n",
      "from ECCO_functions_v2 import *\n",
      "\n",
      "pylab.rcParams['figure.figsize'] = (10.0, 8.0)  # Set a big Notebook figures"
     ],
     "language": "python",
     "metadata": {},
     "outputs": [],
     "prompt_number": 1
    },
    {
     "cell_type": "heading",
     "level": 2,
     "metadata": {},
     "source": [
      "Lake Processing for individual processor"
     ]
    },
    {
     "cell_type": "code",
     "collapsed": false,
     "input": [
      "def MT_Means_Over_Lake(nc_path, lake_file, lake_num, outputprefix, threeD=True,\n",
      "                       tt=None,plots = False,rprt_tme=False):\n",
      "    '''Purpose   -  This program is the main wrapper to execute the ECCO project functions. It is \n",
      "    designed to be executed within the MultiProcessing module. Where one Lake is processed by one Process.\n",
      "    \n",
      "    Inputs   -\n",
      "    nc_path is the file path for the CORDEX NetCDF file\n",
      "    lake_data is file path and filename to GeoJSON file\n",
      "    lake_num is the lake number to be processed (the int feature number from within the lake_data file)\n",
      "    outputprefix is the directory for the outputs (it will be then nested according to netcdf file name)\n",
      "    \n",
      "    Outputs - compressed text files with a time-series of values weighted averageds over each lake \n",
      "    \n",
      "    Note : Multiprocessing is not shared memory, so need to load data for each process\n",
      "    '''\n",
      "    if rprt_tme == True:\n",
      "        a = clock.time()                                                            #Time program started\n",
      "    \n",
      "    num = lake_num\n",
      "    orog = Height_CORDEX()                                                       # Get orography data\n",
      "    #EB_id, lake_path, lake_altitude = Read_LakesV2(lake_file)\n",
      "    \n",
      "    ShapeData = osgeo.ogr.Open(lake_file)\n",
      "    TheLayer = ShapeData.GetLayer(iLayer=0)\n",
      "    feature1 = TheLayer.GetFeature(num)      # From the layer holding all lakes, select a lake feature n\n",
      "    #print 'Num of lakes aviable:',TheLayer.GetFeatureCount()  # Show how many layers (lakes) are in a file\n",
      "    lake_feature = feature1.ExportToJson(as_object=True)  # Convert it to a JSON string to draw from\n",
      "    lake_cart = Path_LkIsl_ShpFile(lake_feature['geometry']['coordinates']) \n",
      "    EB_id = lake_feature['properties']['EBhex']\n",
      "    lake_altitude=lake_feature['properties']['vfp_mean']\n",
      "    \n",
      "    clim_dat,rlat,rlon,time,metadata,txtfname = Read_CORDEX_V2(nc_path)          # Get NetCDF4 data\n",
      "    vname, m1, m2, dexp, m3, m4, m5, m6, drange_orignial = metadata              # Split metadata\n",
      "\n",
      "    if rprt_tme == True:\n",
      "        b = clock.time()                                                             # Time record\n",
      "    \n",
      "    #lake_cart = Path_Make(lake_path[num][0])                                   # lake with no islands\n",
      "    #lake_cart = Path_Lake_and_Islands(num = num,lake_path=lake_path)           # Lake with islands\n",
      "    if plots == True:\n",
      "        Preview_Lake(lake_cart)                                                  # Screen print some stats.\n",
      "        print 'Island aware Area(km^2)=', Area_Lake_and_Islands(lake_cart),         \n",
      "        print ', No. xy lake boundary points=',len(lake_cart.vertices)\n",
      "    \n",
      "    #if Area_Lake_and_Islands(lake_cart) > 5000.:\n",
      "    #    lake_cart = Path_Make(lake_path[num][0])  # If the lake is massive, then ignore the islands\n",
      "        # This is required as there is an error with big lakes where they can have totally empty pixels inside\n",
      "                \n",
      "    \n",
      "    lake_rprj = Path_Reproj(lake_cart,False)             \n",
      "    sub_clim,sub_rlat,sub_rlon = TrimToLake(lake_rprj,clim_dat[0,:,:],rlat,\n",
      "                                            rlon,off = 3, show = False)\n",
      "    \n",
      "    #Preview_Weights(lake_rprj,sub_clim,sub_rlat,sub_rlon)   # REMOVE ME!\n",
      "    #print 'test'\n",
      "    \n",
      "    weight_mask = Pixel_Weights(lake_rprj,sub_clim,sub_rlat,sub_rlon)\n",
      "    sub_orog,sub_rlat,sub_rlon = TrimToLake(lake_rprj,orog[:,:],rlat,\n",
      "                                            rlon,off = 3, show = False)           # Subset area around lake\n",
      "    hght,offset = Orographic_Adjustment(weight_mask,sub_orog,\n",
      "                                        lake_altitude,clim_dat,chatty=False) # Height adjustment\n",
      "    \n",
      "    \n",
      "    if plots == True:\n",
      "        Show_LakeAndData(lake_rprj,clim_dat[0,:,:],rlat,rlon,zoom=8.)             # Plot Overlay lake CORDEX\n",
      "        Preview_Weights(lake_rprj,weight_mask,sub_rlat,sub_rlon)                  # Plot lake and weight mask\n",
      "\n",
      "    if rprt_tme == True:\n",
      "        c = clock.time()                                                              # Time record\n",
      "    \n",
      "    if threeD:\n",
      "        sub_clim,sub_rlat,sub_rlon = TrimToLake3D(lake_rprj,clim_dat[:,:,:],rlat,rlon,off = 3, show = False)\n",
      "        tlist = Weighted_Mean_3D(weight_mask, sub_clim, chatty=False)\n",
      "    else:\n",
      "        tlist =[]\n",
      "        if tt is None:\n",
      "            tt = clim_dat.shape[0]\n",
      "        for t in xrange(tt):\n",
      "        #for t in xrange(len(time)):\n",
      "            sub_clim,sub_rlat,sub_rlon = TrimToLake(lake_rprj,clim_dat[t,:,:],rlat,rlon,off = 3, show = False)\n",
      "            if t == 0 :\n",
      "                final_val = Weighted_Mean(weight_mask,sub_clim,chatty=True)\n",
      "            else:\n",
      "                final_val = Weighted_Mean(weight_mask,sub_clim,chatty=False)\n",
      "            tlist.append(final_val)\n",
      "            print 'Timestep:',t, '  Weighted temperature =','%6.2f'%((final_val)-272.15),'Deg C'\n",
      "        tlist = np.array(tlist)\n",
      "    \n",
      "    if rprt_tme == True:\n",
      "        d = clock.time()                                                                 # Record time    \n",
      "    \n",
      "    idnew = EB_id[2:]                                                      # EB-lake ID (stripped a bit)  \n",
      "    fnm_head = vname+'_'                                                             # Code of the CORDEX variable\n",
      "    hcreate = 'Height offset = %f  Data = %s, Time range = %s  Scenario = %s'%(\\\n",
      "                offset, clim_dat.long_name, drange_orignial, dexp)\n",
      "    Folder_Create(outputprefix,fnm_head,EB_id)                            # Create a folder system\n",
      "    pathname = os.path.join(outputprefix, '_'.join([m1, m2, m3, m4, m5, m6]),\n",
      "                            idnew[:2], idnew[:4], idnew)\n",
      "    #print(pathname)\n",
      "    if not os.path.exists(pathname): os.makedirs(pathname)\n",
      "    \n",
      "    np.savetxt(os.path.join(pathname, txtfname+'txt.gz'),\n",
      "               tlist,fmt='%7.3f',newline='\\n', header=hcreate)  \n",
      "\n",
      "    if rprt_tme == True:\n",
      "        e = clock.time()\n",
      "        print '\\n'\n",
      "        print ('%4.2f sec : Read Data:'%(b-a))\n",
      "        print ('%4.2f sec : Calculated height offset and Weighting Mask'%(c-b))\n",
      "        print ('%4.2f sec : Weighted time-series'%(d-c))\n",
      "        print ('%4.2f sec : Folder path and file creation'%(d-c))\n",
      "        print ('%4.2f sec : Total'%(e-a))\n",
      "\n",
      "    return"
     ],
     "language": "python",
     "metadata": {},
     "outputs": [],
     "prompt_number": 4
    },
    {
     "cell_type": "heading",
     "level": 3,
     "metadata": {},
     "source": [
      "Test run"
     ]
    },
    {
     "cell_type": "code",
     "collapsed": false,
     "input": [
      "nc_path = '/uio/kant/geo-metos-u1/blaken/Downloads/tas_EUR-11_ICHEC-EC-EARTH_rcp85_r3i1p1_DMI-HIRHAM5_v1_day_20060101-20101231.nc'\n",
      "#lake_data = 'Lakes/largest100.geojson'\n",
      "#lake_data ='Lakes/firstfivek_test.geojson'\n",
      "lake_data='Lakes/ecco-biwa_lakes_v/ecco-biwa_lakes_v.0.1.shp'\n",
      "lake_num = 3245\n",
      "out_path = 'Outputs'\n",
      "\n",
      "#MT_Means_Over_Lake(nc_path, lake_data, lake_num, out_path, threeD=False, tt=10,plots=True) # Shorter time period, and slow method\n",
      "\n",
      "MT_Means_Over_Lake(nc_path, lake_data, lake_num, out_path,plots=False,rprt_tme=True) # All time period, fast method"
     ],
     "language": "python",
     "metadata": {},
     "outputs": [
      {
       "output_type": "stream",
       "stream": "stdout",
       "text": [
        "\n",
        "\n",
        "0.02 sec : Read Data:\n",
        "0.49 sec : Calculated height offset and Weighting Mask\n",
        "5.62 sec : Weighted time-series\n",
        "5.62 sec : Folder path and file creation\n",
        "6.14 sec : Total\n"
       ]
      }
     ],
     "prompt_number": 5
    },
    {
     "cell_type": "heading",
     "level": 4,
     "metadata": {},
     "source": [
      "Below is the code i removed from the MT function"
     ]
    },
    {
     "cell_type": "code",
     "collapsed": false,
     "input": [
      "    #nc_fname = os.path.basename(nc_path)\n",
      "    #metadata = os.path.splitext(nc_fname)[0].split('_')\n",
      "    # # metadata is a list of cordex netcdf file metadata\n",
      "    #vname, m1, m2, dexp, m3, m4, m5, m6, drange_orignial = metadata    # dexp is driving experiment\n",
      "    # #print(metadata)\n",
      "    #drange = '_'.join([dexp, drange_orignial])\n",
      "    #txtfname = '_'.join([vname, drange])  # vname + '_' + drange # '%s_%s' % (vname, drange)\n",
      "        \n",
      "    #nc = Dataset(nc_path)           # Read the netcdf Data \n",
      "    #clim_dat = nc.variables[vname]\n",
      "    #rlat = nc.variables['rlat']\n",
      "    #rlon = nc.variables['rlon']\n",
      "    #time = nc.variables['time']\n",
      "    \n",
      "    #print 'Offset to be applied (in Kelvin):',offset\n",
      "    \n",
      "    #hcreate = 'Height offset = '+ '%6.2f'%offset+'  Data = '+clim_dat.long_name+', time range of file = '+drange+' Model = '+dexp\n",
      "    \n",
      "    \n",
      "    #out = os.path.join('Outputs', fnm_head)       \n",
      "    #ideb = EB_id[lake_num][2:]\n",
      "    #print(ideb)\n",
      "    #l = len(ideb)\n",
      "    #if l == 6:\n",
      "    #    idnew = ideb\n",
      "    #elif l == 5:\n",
      "    #    idnew = '0%s' % ideb\n",
      "    #elif l == 4:\n",
      "    #    idnew = '00%s' % ideb\n",
      "    #elif l == 3:\n",
      "    #    idnew = '000%s' % ideb\n",
      "    #elif l == 2:\n",
      "    #    idnew = '0000%s' % ideb\n",
      "    #elif l == 1:\n",
      "    #    idnew = '00000%s' % ideb\n",
      "    \n",
      "    \n",
      "    #out = '/uio/kant/geo-metos-u1/blaken/Work/Python/ECCO/Outputs/'+fnm_head\n",
      "    # txtfname = Gen_FileName(out,lake_name[num],drange,'_3D.txt.gz' if threeD else '.txt.gz')"
     ],
     "language": "python",
     "metadata": {},
     "outputs": [],
     "prompt_number": 4
    },
    {
     "cell_type": "code",
     "collapsed": false,
     "input": [
      "\n",
      "lake_file = 'Lakes/largest100.geojson'\n",
      "EB_id, lake_path, lake_altitude = Read_LakesV2(lake_file)"
     ],
     "language": "python",
     "metadata": {},
     "outputs": [],
     "prompt_number": 5
    },
    {
     "cell_type": "code",
     "collapsed": false,
     "input": [
      "num = 2\n",
      "#lake_cart = Path_Make(lake_path[num][0])                                    \n",
      "lake_cart = Path_Lake_and_Islands(num = num,lake_path=lake_path)\n",
      "Preview_Lake(lake_cart)                                                  # Preview plot of lake\n",
      "print 'Area(km^2)=', Poly_Area2D(EqArea(lake_cart.vertices)),            # Screen print some stats.\n",
      "print ', No. xy lake boundary points=',len(lake_cart.vertices)\n",
      "\n",
      "area =  Area_Lake_and_Islands(lake_cart)"
     ],
     "language": "python",
     "metadata": {},
     "outputs": [
      {
       "metadata": {},
       "output_type": "display_data",
       "png": "[encoded data removed]",
       "text": [
        "<matplotlib.figure.Figure at 0x7f34a528cc50>"
       ]
      },
      {
       "output_type": "stream",
       "stream": "stdout",
       "text": [
        "Area(km^2)=  89.11 , No. xy lake boundary points= 714\n"
       ]
      }
     ],
     "prompt_number": 6
    },
    {
     "cell_type": "code",
     "collapsed": false,
     "input": [],
     "language": "python",
     "metadata": {},
     "outputs": [],
     "prompt_number": 6
    },
    {
     "cell_type": "code",
     "collapsed": false,
     "input": [
      "#lake_poly = lake_cart\n",
      "\n",
      "def Area_Lake_and_Islands(lake_poly):\n",
      "    '''Purpose  -  Calculate the area of a given Lake polygon, taking into account islands.\n",
      "    Input - Lake polygon object (which may or may not include islands). Polygon object \n",
      "            should be generated with the function Path_Lake_and_Islands().\n",
      "    Output- If islands are present the output is the area (in km^2) of the lake boundary\n",
      "            minus the sum of the island(s) area. If no islands are present then the output\n",
      "            is simply the area of the lake boundary.\n",
      "    '''\n",
      "    aaa = np.where(lake_poly.codes == 1)\n",
      "    bbb = np.where(lake_poly.codes == 79)\n",
      "    print 'number of 1s:',len(aaa[0])\n",
      "    print 'number of 79s',len(bbb[0])\n",
      "    island_num = (len(aaa[0]))-1\n",
      "    print 'Found %i Islands'%island_num\n",
      "    area_start = [i for n,i in enumerate(aaa[0])]\n",
      "    area_end = [i for n,i in enumerate(bbb[0])]\n",
      "    #Seperated paths, pos.0 is the boundary and rest are islands\n",
      "    sep_paths = [lake_poly.vertices[area_start[n]:area_end[n]] for n,i in enumerate(area_start)]\n",
      "    sep_areas = [float(Poly_Area2D(EqArea(sep_paths[n]))) for n in xrange(len(sep_paths))]\n",
      "    if island_num > 0:\n",
      "        total = sep_areas[0] - sum(sep_areas[1:])\n",
      "        print 'Area minus Islands:',total\n",
      "    else:\n",
      "        total = sep_areas[0]\n",
      "        print 'No islands found, total area is simply lake boundary'\n",
      "    print 'Area without considering islands:',sep_areas[0]\n",
      "    return total\n"
     ],
     "language": "python",
     "metadata": {},
     "outputs": [],
     "prompt_number": 7
    },
    {
     "cell_type": "code",
     "collapsed": false,
     "input": [
      "total = sep_areas[0] - sum(sep_areas[1:])\n",
      "print sep_areas[0], total\n",
      "\n",
      "#for n,i in enumerate(area_start):\n",
      "#    print 'First/last index of polygon:',area_start[n],area_end[n]\n",
      "\n",
      "#print len(sep_paths)\n",
      "#for n in xrange(len(sep_paths)):\n",
      "#    print len(n)\n",
      "\n",
      "   # print float(Poly_Area2D(EqArea(sep_paths[n])))\n",
      "    \n",
      "    \n",
      "#test = [float(Poly_Area2D(EqArea(sep_paths[n]))) for n in xrange(len(sep_paths))]\n",
      "\n",
      "\n",
      "#for n in xrange(len(sep_paths)):\n",
      "#    print n, float(Poly_Area2D(EqArea(sep_paths[n]))),test[n]"
     ],
     "language": "python",
     "metadata": {},
     "outputs": [
      {
       "ename": "NameError",
       "evalue": "name 'sep_areas' is not defined",
       "output_type": "pyerr",
       "traceback": [
        "\u001b[1;31m---------------------------------------------------------------------------\u001b[0m\n\u001b[1;31mNameError\u001b[0m                                 Traceback (most recent call last)",
        "\u001b[1;32m<ipython-input-8-8911f98ac98d>\u001b[0m in \u001b[0;36m<module>\u001b[1;34m()\u001b[0m\n\u001b[1;32m----> 1\u001b[1;33m \u001b[0mtotal\u001b[0m \u001b[1;33m=\u001b[0m \u001b[0msep_areas\u001b[0m\u001b[1;33m[\u001b[0m\u001b[1;36m0\u001b[0m\u001b[1;33m]\u001b[0m \u001b[1;33m-\u001b[0m \u001b[0msum\u001b[0m\u001b[1;33m(\u001b[0m\u001b[0msep_areas\u001b[0m\u001b[1;33m[\u001b[0m\u001b[1;36m1\u001b[0m\u001b[1;33m:\u001b[0m\u001b[1;33m]\u001b[0m\u001b[1;33m)\u001b[0m\u001b[1;33m\u001b[0m\u001b[0m\n\u001b[0m\u001b[0;32m      2\u001b[0m \u001b[1;32mprint\u001b[0m \u001b[0msep_areas\u001b[0m\u001b[1;33m[\u001b[0m\u001b[1;36m0\u001b[0m\u001b[1;33m]\u001b[0m\u001b[1;33m,\u001b[0m \u001b[0mtotal\u001b[0m\u001b[1;33m\u001b[0m\u001b[0m\n\u001b[0;32m      3\u001b[0m \u001b[1;33m\u001b[0m\u001b[0m\n\u001b[0;32m      4\u001b[0m \u001b[1;31m#for n,i in enumerate(area_start):\u001b[0m\u001b[1;33m\u001b[0m\u001b[1;33m\u001b[0m\u001b[0m\n\u001b[0;32m      5\u001b[0m \u001b[1;31m#    print 'First/last index of polygon:',area_start[n],area_end[n]\u001b[0m\u001b[1;33m\u001b[0m\u001b[1;33m\u001b[0m\u001b[0m\n",
        "\u001b[1;31mNameError\u001b[0m: name 'sep_areas' is not defined"
       ]
      }
     ],
     "prompt_number": 8
    },
    {
     "cell_type": "code",
     "collapsed": false,
     "input": [
      "num_rings = len(lake_path[num][0]) \n",
      "pathouts = [PMake(lake_path[num][0][ringi]) for ringi in range(num_rings)]\n",
      "coordinates = [e1 for e1, e2 in pathouts]\n",
      "codeouts = [e2 for e1, e2 in pathouts]\n",
      "lk_stack = np.concatenate(coordinates, axis=0)\n",
      "lk_codes = np.concatenate(codeouts, axis=0)\n",
      "path_wisl = Path(lk_stack, lk_codes)"
     ],
     "language": "python",
     "metadata": {},
     "outputs": []
    },
    {
     "cell_type": "heading",
     "level": 2,
     "metadata": {},
     "source": [
      "Detecting the island generated error.."
     ]
    },
    {
     "cell_type": "code",
     "collapsed": false,
     "input": [
      "lake_file = 'Lakes/largest100.geojson'\n",
      "EB_id, lake_path, lake_altitude = Read_LakesV2(lake_file)\n",
      "lake_cart = Path_Lake_and_Islands(num = 13,lake_path=lake_path)\n",
      "lake_rprj = Path_Reproj(lake_cart,False) \n"
     ],
     "language": "python",
     "metadata": {},
     "outputs": [],
     "prompt_number": 10
    },
    {
     "cell_type": "code",
     "collapsed": false,
     "input": [
      "lims = [[0.295,17.49611113],[0.395,17.59388902]]  # Bad one (for some reason showing as true)\n",
      "print lims[1][1]\n",
      "\n",
      "#lims = [[0.195,17.59388902],[0.295,17.69166692]]"
     ],
     "language": "python",
     "metadata": {},
     "outputs": [
      {
       "output_type": "stream",
       "stream": "stdout",
       "text": [
        "17.59388902\n"
       ]
      }
     ],
     "prompt_number": 11
    },
    {
     "cell_type": "code",
     "collapsed": false,
     "input": [
      "tmpbb = Bbox(lims)\n",
      "test = lake_rprj.intersects_bbox(tmpbb)\n",
      "print test\n",
      "#sub_lout = lake_rprj.clip_to_bbox(tmpbb,inside ='True')"
     ],
     "language": "python",
     "metadata": {},
     "outputs": [
      {
       "output_type": "stream",
       "stream": "stdout",
       "text": [
        "1\n"
       ]
      }
     ],
     "prompt_number": 12
    },
    {
     "cell_type": "code",
     "collapsed": false,
     "input": [],
     "language": "python",
     "metadata": {},
     "outputs": [],
     "prompt_number": 12
    },
    {
     "cell_type": "code",
     "collapsed": false,
     "input": [
      "print lake_rprj.intersects_bbox(tmpbb,filled=False)"
     ],
     "language": "python",
     "metadata": {},
     "outputs": [
      {
       "output_type": "stream",
       "stream": "stdout",
       "text": [
        "1\n"
       ]
      }
     ],
     "prompt_number": 15
    },
    {
     "cell_type": "code",
     "collapsed": false,
     "input": [
      "%time\n",
      "#sub_lout = lake_rprj.clip_to_bbox(tmpbb)\n",
      "\n",
      "acheck = 0\n",
      "for n in lake_rprj.vertices:\n",
      "    if ((n[0] > lims[0][0])&(n[0]<lims[1][0])&(n[1] >lims[0][1])&(n[1]<lims[1][1])):\n",
      "        acheck = 1\n",
      "print 'Condition ',acheck\n",
      "        \n",
      "\n",
      "    "
     ],
     "language": "python",
     "metadata": {},
     "outputs": [
      {
       "output_type": "stream",
       "stream": "stdout",
       "text": [
        "CPU times: user 0 ns, sys: 0 ns, total: 0 ns\n",
        "Wall time: 4.05 \u00b5s\n",
        "Condition  0\n"
       ]
      }
     ],
     "prompt_number": 45
    },
    {
     "cell_type": "code",
     "collapsed": false,
     "input": [
      "%time\n",
      "ben_test = 0\n",
      "acheck = [((n[0] > lims[0][0])&(n[0]<lims[1][0])&(n[1] >lims[0][1])&(n[1]<lims[1][1])) for n in lake_rprj.vertices]\n",
      "acheck = np.array(acheck)\n",
      "tst = np.where(acheck == True)\n",
      "if len(tst[0]) > 0:\n",
      "    ben_test = 1\n",
      "print 'Values in BB?',ben_test"
     ],
     "language": "python",
     "metadata": {},
     "outputs": [
      {
       "output_type": "stream",
       "stream": "stdout",
       "text": [
        "CPU times: user 0 ns, sys: 0 ns, total: 0 ns\n",
        "Wall time: 5.96 \u00b5s\n",
        "Values in BB? 0\n"
       ]
      }
     ],
     "prompt_number": 46
    },
    {
     "cell_type": "code",
     "collapsed": false,
     "input": [
      "acheck "
     ],
     "language": "python",
     "metadata": {},
     "outputs": [
      {
       "metadata": {},
       "output_type": "pyout",
       "prompt_number": 43,
       "text": [
        "array([False, False, False, ..., False, False, False], dtype=bool)"
       ]
      }
     ],
     "prompt_number": 43
    },
    {
     "cell_type": "code",
     "collapsed": false,
     "input": [],
     "language": "python",
     "metadata": {},
     "outputs": []
    }
   ],
   "metadata": {}
  }
 ]
}